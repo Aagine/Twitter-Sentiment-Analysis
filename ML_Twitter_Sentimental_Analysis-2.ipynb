{
  "metadata": {
    "kernelspec": {
      "display_name": "Python 3",
      "language": "python",
      "name": "python3"
    },
    "language_info": {
      "name": "python",
      "version": "3.6.5",
      "mimetype": "text/x-python",
      "codemirror_mode": {
        "name": "ipython",
        "version": 3
      },
      "pygments_lexer": "ipython3",
      "nbconvert_exporter": "python",
      "file_extension": ".py"
    },
    "kaggle": {
      "accelerator": "none",
      "dataSources": [
        {
          "sourceId": 4140,
          "sourceType": "datasetVersion",
          "datasetId": 2477
        }
      ],
      "dockerImageVersionId": 1302,
      "isInternetEnabled": false,
      "language": "python",
      "sourceType": "notebook",
      "isGpuEnabled": false
    },
    "colab": {
      "provenance": []
    }
  },
  "nbformat_minor": 0,
  "nbformat": 4,
  "cells": [
    {
      "cell_type": "code",
      "source": [
        "# First my program will install all the required libraries and will read the csv file and will convert it to dataframe df.\n",
        "# It will give column names to the datafram df and then it will drop some columns except text and sentiment.\n",
        "# It will count the tweets group by sentiment.\n",
        "# It will add new column pre_clean_len to dataframe which is length of each tweet.\n",
        "# plot pre_clean_len column.\n",
        "# check for any tweets greater than 140 characters.\n",
        "# for each text i am calling tweet_cleaner function which will remove convert words to lower case, remove URL, remove hashtag, remove @mentions, HTML decoding, UTF-8 BOM decoding and converting words like isn't to is not.\n",
        "# And all this it will store in list called clean_tweet_texts.\n",
        "# Again it will tokenize the tweets in clean_tweet_texts and will do lemmatizing for every word in  list and after lemmatization it will join all the wirds again and will store it in new list called clean_df1.\n",
        "# This clean_df1 is then converted to dataframe and a sentiment column is added to it which is from old dataframe df.\n",
        "# Again it will add new column pre_clean_len to dataframe which is length of each tweet.\n",
        "# Again check for any tweets greater than 140 characters.\n",
        "# All the tweets is given to new variable x.\n",
        "# All the tweets sentiments is given to new variable y and plot the see shaoe of both x and y variable.\n",
        "# Now split the dataset in ratio 80:20 whereas 80% is for training and 20% is for testing.\n",
        "# Split both the x and y variables.\n",
        "# make a new instance vect of Tf-idf vectorizer and pass parameter as analyzer = \"word\" and ngrams_range = (1,1).\n",
        "# this ngrams_range is for feature selection is given (1,1) it will only select unigrams, (2,2) only bigrams, (3,3) only trigrams, (1,2) unigrams and bigrams, (1,3) unigrams, bigrams and trigrams.\n",
        "# we can also remove stop words over here by simply add new parameter stop_words = 'english'.\n",
        "# fit or traing data tweets to vect.\n",
        "# transform our training data tweets.\n",
        "# transform our testing data tweets.\n",
        "# import naive bayes and make object of it. Fit our traing tweets data and training tweets sentiment to the model.\n",
        "# do 10- fold cross validation on the training data and  calculate the mean accuracy of it.\n",
        "# predict the sentiments of testing tweets data.\n",
        "# calculate the accuracy of predicted sentiments with the original tweets sentiment of testing data.\n",
        "# plot the confusion matrix between original testing sentiment data and predicted sentiment.\n",
        "# import logistic regression and make object of it. Fit our traing tweets data and training tweets sentiment to the model.\n",
        "# do 10- fold cross validation on the training data and  calculate the mean accuracy of it.\n",
        "# predict the sentiments of testing tweets data.\n",
        "# calculate the accuracy of predicted sentiments with the original tweets sentiment of testing data.\n",
        "# plot the confusion matrix between original testing sentiment data and predicted sentiment.\n",
        "# import SVM and make object of it. Fit our traing tweets data and training tweets sentiment to the model.\n",
        "# do 10- fold cross validation on the training data and  calculate the mean accuracy of it.\n",
        "# predict the sentiments of testing tweets data.\n",
        "# calculate the accuracy of predicted sentiments with the original tweets sentiment of testing data.\n",
        "# plot the confusion matrix between original testing sentiment data and predicted sentiment."
      ],
      "metadata": {
        "_uuid": "6c70e441972baa6c7ac430f67dbc5da8727c2f48",
        "execution": {
          "iopub.status.busy": "2023-12-01T22:13:48.546948Z",
          "iopub.execute_input": "2023-12-01T22:13:48.547775Z",
          "iopub.status.idle": "2023-12-01T22:13:48.569266Z",
          "shell.execute_reply.started": "2023-12-01T22:13:48.547692Z",
          "shell.execute_reply": "2023-12-01T22:13:48.568277Z"
        },
        "trusted": true,
        "id": "s3ZfZyaxrNvL"
      },
      "execution_count": 2,
      "outputs": []
    },
    {
      "cell_type": "code",
      "source": [
        "import pandas as pd #import pandas\n",
        "import numpy as numpy #import numpy\n",
        "from sklearn.utils import shuffle # to shuffle the data\n",
        "import random # import random\n",
        "import sklearn # import sklearn\n",
        "import nltk # import nltk\n",
        "from nltk.corpus import stopwords #import stop words\n",
        "import re # import regular expression\n",
        "from nltk.tokenize import word_tokenize # import word_tokenize\n",
        "import matplotlib\n",
        "import matplotlib.pyplot as plt #import matplotlib.pyplot\n",
        "df = pd.read_csv(\"/content/drive/MyDrive/ml decemeber 4th/training.1600000.processed.noemoticon.csv\", encoding='latin-1', header=None) #read csv file without header as dataframe\n",
        "from sklearn.feature_extraction.text import TfidfVectorizer #  import TF-idf vectorizer\n",
        "df = shuffle(df) # shuffle csv file\n",
        "#tweets1 = df.iloc[0:9999,]\n",
        "#tweets1.to_csv('tweets1.csv', sep=',')\n",
        "%matplotlib inline\n",
        "#data\n",
        "print(sklearn.__version__)\n",
        "print(matplotlib.__version__)\n",
        "print(numpy.__version__)\n",
        "print(pd.__version__)\n",
        "print(nltk.__version__)"
      ],
      "metadata": {
        "_uuid": "7f7b26518aef4c074f01a6f34982c020365378e5",
        "execution": {
          "iopub.status.busy": "2023-12-01T22:13:48.570708Z",
          "iopub.execute_input": "2023-12-01T22:13:48.571013Z",
          "iopub.status.idle": "2023-12-01T22:13:59.001097Z",
          "shell.execute_reply.started": "2023-12-01T22:13:48.570962Z",
          "shell.execute_reply": "2023-12-01T22:13:59.000010Z"
        },
        "trusted": true,
        "colab": {
          "base_uri": "https://localhost:8080/"
        },
        "id": "NtGN_VVirNvN",
        "outputId": "ae17aa8a-1391-42c0-e1a8-30614c2faf52"
      },
      "execution_count": 3,
      "outputs": [
        {
          "output_type": "stream",
          "name": "stdout",
          "text": [
            "1.2.2\n",
            "3.7.1\n",
            "1.23.5\n",
            "1.5.3\n",
            "3.8.1\n"
          ]
        }
      ]
    },
    {
      "cell_type": "code",
      "source": [
        "df.columns = [\"sentiment\", \"id\", \"date\", \"query\", \"user\", \"text\"] # give column names\n",
        "#data"
      ],
      "metadata": {
        "_uuid": "f615b130f977365f1a1c33281768350d86cff49a",
        "execution": {
          "iopub.status.busy": "2023-12-01T22:13:59.004774Z",
          "iopub.execute_input": "2023-12-01T22:13:59.005061Z",
          "iopub.status.idle": "2023-12-01T22:13:59.019378Z",
          "shell.execute_reply.started": "2023-12-01T22:13:59.005004Z",
          "shell.execute_reply": "2023-12-01T22:13:59.018589Z"
        },
        "trusted": true,
        "id": "xOeZBjKkrNvO"
      },
      "execution_count": 4,
      "outputs": []
    },
    {
      "cell_type": "code",
      "source": [
        "df = df.drop([\"id\", \"date\", \"query\", \"user\"], axis = 1) #drop some column from the dataframe\n",
        "#data"
      ],
      "metadata": {
        "_uuid": "ec401a17982fe809aad9e3cba1460d6a2b39eec9",
        "execution": {
          "iopub.status.busy": "2023-12-01T22:13:59.020649Z",
          "iopub.execute_input": "2023-12-01T22:13:59.020936Z",
          "iopub.status.idle": "2023-12-01T22:13:59.285869Z",
          "shell.execute_reply.started": "2023-12-01T22:13:59.020878Z",
          "shell.execute_reply": "2023-12-01T22:13:59.285015Z"
        },
        "trusted": true,
        "id": "-RbwBpZ-rNvO"
      },
      "execution_count": 5,
      "outputs": []
    },
    {
      "cell_type": "code",
      "source": [
        "df.head() # get the first 5 rows from the dataframe"
      ],
      "metadata": {
        "_uuid": "6a4e2d515aa7198e6beeb07512069f4a6aed13e0",
        "execution": {
          "iopub.status.busy": "2023-12-01T22:13:59.287088Z",
          "iopub.execute_input": "2023-12-01T22:13:59.287412Z",
          "iopub.status.idle": "2023-12-01T22:13:59.306625Z",
          "shell.execute_reply.started": "2023-12-01T22:13:59.287359Z",
          "shell.execute_reply": "2023-12-01T22:13:59.305725Z"
        },
        "trusted": true,
        "colab": {
          "base_uri": "https://localhost:8080/",
          "height": 204
        },
        "id": "YHnnr_rmrNvO",
        "outputId": "eb8d7570-c564-421b-86c4-2ef128e5073e"
      },
      "execution_count": 6,
      "outputs": [
        {
          "output_type": "execute_result",
          "data": {
            "text/plain": [
              "         sentiment                                               text\n",
              "484679           0  @DJMoReX Yeah, Im just jealous really. @xxlea ...\n",
              "445377           0  I lost my lotto ticket. I bet this was the one...\n",
              "763853           0  Jon &amp; Kate done after all them damn kids a...\n",
              "422692           0  @Angelayang hahahah my laura is my best friend...\n",
              "1010545          4  I need to go now. Rest the pc, my fingers, my ..."
            ],
            "text/html": [
              "\n",
              "  <div id=\"df-2ab3e808-1808-4450-9408-340968292e80\" class=\"colab-df-container\">\n",
              "    <div>\n",
              "<style scoped>\n",
              "    .dataframe tbody tr th:only-of-type {\n",
              "        vertical-align: middle;\n",
              "    }\n",
              "\n",
              "    .dataframe tbody tr th {\n",
              "        vertical-align: top;\n",
              "    }\n",
              "\n",
              "    .dataframe thead th {\n",
              "        text-align: right;\n",
              "    }\n",
              "</style>\n",
              "<table border=\"1\" class=\"dataframe\">\n",
              "  <thead>\n",
              "    <tr style=\"text-align: right;\">\n",
              "      <th></th>\n",
              "      <th>sentiment</th>\n",
              "      <th>text</th>\n",
              "    </tr>\n",
              "  </thead>\n",
              "  <tbody>\n",
              "    <tr>\n",
              "      <th>484679</th>\n",
              "      <td>0</td>\n",
              "      <td>@DJMoReX Yeah, Im just jealous really. @xxlea ...</td>\n",
              "    </tr>\n",
              "    <tr>\n",
              "      <th>445377</th>\n",
              "      <td>0</td>\n",
              "      <td>I lost my lotto ticket. I bet this was the one...</td>\n",
              "    </tr>\n",
              "    <tr>\n",
              "      <th>763853</th>\n",
              "      <td>0</td>\n",
              "      <td>Jon &amp;amp; Kate done after all them damn kids a...</td>\n",
              "    </tr>\n",
              "    <tr>\n",
              "      <th>422692</th>\n",
              "      <td>0</td>\n",
              "      <td>@Angelayang hahahah my laura is my best friend...</td>\n",
              "    </tr>\n",
              "    <tr>\n",
              "      <th>1010545</th>\n",
              "      <td>4</td>\n",
              "      <td>I need to go now. Rest the pc, my fingers, my ...</td>\n",
              "    </tr>\n",
              "  </tbody>\n",
              "</table>\n",
              "</div>\n",
              "    <div class=\"colab-df-buttons\">\n",
              "\n",
              "  <div class=\"colab-df-container\">\n",
              "    <button class=\"colab-df-convert\" onclick=\"convertToInteractive('df-2ab3e808-1808-4450-9408-340968292e80')\"\n",
              "            title=\"Convert this dataframe to an interactive table.\"\n",
              "            style=\"display:none;\">\n",
              "\n",
              "  <svg xmlns=\"http://www.w3.org/2000/svg\" height=\"24px\" viewBox=\"0 -960 960 960\">\n",
              "    <path d=\"M120-120v-720h720v720H120Zm60-500h600v-160H180v160Zm220 220h160v-160H400v160Zm0 220h160v-160H400v160ZM180-400h160v-160H180v160Zm440 0h160v-160H620v160ZM180-180h160v-160H180v160Zm440 0h160v-160H620v160Z\"/>\n",
              "  </svg>\n",
              "    </button>\n",
              "\n",
              "  <style>\n",
              "    .colab-df-container {\n",
              "      display:flex;\n",
              "      gap: 12px;\n",
              "    }\n",
              "\n",
              "    .colab-df-convert {\n",
              "      background-color: #E8F0FE;\n",
              "      border: none;\n",
              "      border-radius: 50%;\n",
              "      cursor: pointer;\n",
              "      display: none;\n",
              "      fill: #1967D2;\n",
              "      height: 32px;\n",
              "      padding: 0 0 0 0;\n",
              "      width: 32px;\n",
              "    }\n",
              "\n",
              "    .colab-df-convert:hover {\n",
              "      background-color: #E2EBFA;\n",
              "      box-shadow: 0px 1px 2px rgba(60, 64, 67, 0.3), 0px 1px 3px 1px rgba(60, 64, 67, 0.15);\n",
              "      fill: #174EA6;\n",
              "    }\n",
              "\n",
              "    .colab-df-buttons div {\n",
              "      margin-bottom: 4px;\n",
              "    }\n",
              "\n",
              "    [theme=dark] .colab-df-convert {\n",
              "      background-color: #3B4455;\n",
              "      fill: #D2E3FC;\n",
              "    }\n",
              "\n",
              "    [theme=dark] .colab-df-convert:hover {\n",
              "      background-color: #434B5C;\n",
              "      box-shadow: 0px 1px 3px 1px rgba(0, 0, 0, 0.15);\n",
              "      filter: drop-shadow(0px 1px 2px rgba(0, 0, 0, 0.3));\n",
              "      fill: #FFFFFF;\n",
              "    }\n",
              "  </style>\n",
              "\n",
              "    <script>\n",
              "      const buttonEl =\n",
              "        document.querySelector('#df-2ab3e808-1808-4450-9408-340968292e80 button.colab-df-convert');\n",
              "      buttonEl.style.display =\n",
              "        google.colab.kernel.accessAllowed ? 'block' : 'none';\n",
              "\n",
              "      async function convertToInteractive(key) {\n",
              "        const element = document.querySelector('#df-2ab3e808-1808-4450-9408-340968292e80');\n",
              "        const dataTable =\n",
              "          await google.colab.kernel.invokeFunction('convertToInteractive',\n",
              "                                                    [key], {});\n",
              "        if (!dataTable) return;\n",
              "\n",
              "        const docLinkHtml = 'Like what you see? Visit the ' +\n",
              "          '<a target=\"_blank\" href=https://colab.research.google.com/notebooks/data_table.ipynb>data table notebook</a>'\n",
              "          + ' to learn more about interactive tables.';\n",
              "        element.innerHTML = '';\n",
              "        dataTable['output_type'] = 'display_data';\n",
              "        await google.colab.output.renderOutput(dataTable, element);\n",
              "        const docLink = document.createElement('div');\n",
              "        docLink.innerHTML = docLinkHtml;\n",
              "        element.appendChild(docLink);\n",
              "      }\n",
              "    </script>\n",
              "  </div>\n",
              "\n",
              "\n",
              "<div id=\"df-5db13c1b-734a-4f61-8c64-4825655e4939\">\n",
              "  <button class=\"colab-df-quickchart\" onclick=\"quickchart('df-5db13c1b-734a-4f61-8c64-4825655e4939')\"\n",
              "            title=\"Suggest charts\"\n",
              "            style=\"display:none;\">\n",
              "\n",
              "<svg xmlns=\"http://www.w3.org/2000/svg\" height=\"24px\"viewBox=\"0 0 24 24\"\n",
              "     width=\"24px\">\n",
              "    <g>\n",
              "        <path d=\"M19 3H5c-1.1 0-2 .9-2 2v14c0 1.1.9 2 2 2h14c1.1 0 2-.9 2-2V5c0-1.1-.9-2-2-2zM9 17H7v-7h2v7zm4 0h-2V7h2v10zm4 0h-2v-4h2v4z\"/>\n",
              "    </g>\n",
              "</svg>\n",
              "  </button>\n",
              "\n",
              "<style>\n",
              "  .colab-df-quickchart {\n",
              "      --bg-color: #E8F0FE;\n",
              "      --fill-color: #1967D2;\n",
              "      --hover-bg-color: #E2EBFA;\n",
              "      --hover-fill-color: #174EA6;\n",
              "      --disabled-fill-color: #AAA;\n",
              "      --disabled-bg-color: #DDD;\n",
              "  }\n",
              "\n",
              "  [theme=dark] .colab-df-quickchart {\n",
              "      --bg-color: #3B4455;\n",
              "      --fill-color: #D2E3FC;\n",
              "      --hover-bg-color: #434B5C;\n",
              "      --hover-fill-color: #FFFFFF;\n",
              "      --disabled-bg-color: #3B4455;\n",
              "      --disabled-fill-color: #666;\n",
              "  }\n",
              "\n",
              "  .colab-df-quickchart {\n",
              "    background-color: var(--bg-color);\n",
              "    border: none;\n",
              "    border-radius: 50%;\n",
              "    cursor: pointer;\n",
              "    display: none;\n",
              "    fill: var(--fill-color);\n",
              "    height: 32px;\n",
              "    padding: 0;\n",
              "    width: 32px;\n",
              "  }\n",
              "\n",
              "  .colab-df-quickchart:hover {\n",
              "    background-color: var(--hover-bg-color);\n",
              "    box-shadow: 0 1px 2px rgba(60, 64, 67, 0.3), 0 1px 3px 1px rgba(60, 64, 67, 0.15);\n",
              "    fill: var(--button-hover-fill-color);\n",
              "  }\n",
              "\n",
              "  .colab-df-quickchart-complete:disabled,\n",
              "  .colab-df-quickchart-complete:disabled:hover {\n",
              "    background-color: var(--disabled-bg-color);\n",
              "    fill: var(--disabled-fill-color);\n",
              "    box-shadow: none;\n",
              "  }\n",
              "\n",
              "  .colab-df-spinner {\n",
              "    border: 2px solid var(--fill-color);\n",
              "    border-color: transparent;\n",
              "    border-bottom-color: var(--fill-color);\n",
              "    animation:\n",
              "      spin 1s steps(1) infinite;\n",
              "  }\n",
              "\n",
              "  @keyframes spin {\n",
              "    0% {\n",
              "      border-color: transparent;\n",
              "      border-bottom-color: var(--fill-color);\n",
              "      border-left-color: var(--fill-color);\n",
              "    }\n",
              "    20% {\n",
              "      border-color: transparent;\n",
              "      border-left-color: var(--fill-color);\n",
              "      border-top-color: var(--fill-color);\n",
              "    }\n",
              "    30% {\n",
              "      border-color: transparent;\n",
              "      border-left-color: var(--fill-color);\n",
              "      border-top-color: var(--fill-color);\n",
              "      border-right-color: var(--fill-color);\n",
              "    }\n",
              "    40% {\n",
              "      border-color: transparent;\n",
              "      border-right-color: var(--fill-color);\n",
              "      border-top-color: var(--fill-color);\n",
              "    }\n",
              "    60% {\n",
              "      border-color: transparent;\n",
              "      border-right-color: var(--fill-color);\n",
              "    }\n",
              "    80% {\n",
              "      border-color: transparent;\n",
              "      border-right-color: var(--fill-color);\n",
              "      border-bottom-color: var(--fill-color);\n",
              "    }\n",
              "    90% {\n",
              "      border-color: transparent;\n",
              "      border-bottom-color: var(--fill-color);\n",
              "    }\n",
              "  }\n",
              "</style>\n",
              "\n",
              "  <script>\n",
              "    async function quickchart(key) {\n",
              "      const quickchartButtonEl =\n",
              "        document.querySelector('#' + key + ' button');\n",
              "      quickchartButtonEl.disabled = true;  // To prevent multiple clicks.\n",
              "      quickchartButtonEl.classList.add('colab-df-spinner');\n",
              "      try {\n",
              "        const charts = await google.colab.kernel.invokeFunction(\n",
              "            'suggestCharts', [key], {});\n",
              "      } catch (error) {\n",
              "        console.error('Error during call to suggestCharts:', error);\n",
              "      }\n",
              "      quickchartButtonEl.classList.remove('colab-df-spinner');\n",
              "      quickchartButtonEl.classList.add('colab-df-quickchart-complete');\n",
              "    }\n",
              "    (() => {\n",
              "      let quickchartButtonEl =\n",
              "        document.querySelector('#df-5db13c1b-734a-4f61-8c64-4825655e4939 button');\n",
              "      quickchartButtonEl.style.display =\n",
              "        google.colab.kernel.accessAllowed ? 'block' : 'none';\n",
              "    })();\n",
              "  </script>\n",
              "</div>\n",
              "    </div>\n",
              "  </div>\n"
            ]
          },
          "metadata": {},
          "execution_count": 6
        }
      ]
    },
    {
      "cell_type": "code",
      "source": [
        "df.sentiment.value_counts() # count the number of sentiments with respect to their tweet(4 stands for positive tweet and 0 stands for negative tweet)"
      ],
      "metadata": {
        "_uuid": "1250dedbdeeea451a6a77a2f7d8392e1bd43babd",
        "execution": {
          "iopub.status.busy": "2023-12-01T22:13:59.307748Z",
          "iopub.execute_input": "2023-12-01T22:13:59.307988Z",
          "iopub.status.idle": "2023-12-01T22:13:59.340148Z",
          "shell.execute_reply.started": "2023-12-01T22:13:59.307951Z",
          "shell.execute_reply": "2023-12-01T22:13:59.339263Z"
        },
        "trusted": true,
        "colab": {
          "base_uri": "https://localhost:8080/"
        },
        "id": "Feu-RC2MrNvP",
        "outputId": "5089c7f6-5369-4fdc-a649-74bc602120a8"
      },
      "execution_count": 7,
      "outputs": [
        {
          "output_type": "execute_result",
          "data": {
            "text/plain": [
              "0    800000\n",
              "4    800000\n",
              "Name: sentiment, dtype: int64"
            ]
          },
          "metadata": {},
          "execution_count": 7
        }
      ]
    },
    {
      "cell_type": "code",
      "source": [
        "df['pre_clean_len'] = [len(t) for t in df.text] # add new column pre_clean_len to dataframe which is length of each tweet"
      ],
      "metadata": {
        "_uuid": "2f599159b02af198749ecb2d62ded906cd482b2b",
        "execution": {
          "iopub.status.busy": "2023-12-01T22:13:59.341660Z",
          "iopub.execute_input": "2023-12-01T22:13:59.342373Z",
          "iopub.status.idle": "2023-12-01T22:14:00.414079Z",
          "shell.execute_reply.started": "2023-12-01T22:13:59.342309Z",
          "shell.execute_reply": "2023-12-01T22:14:00.413362Z"
        },
        "trusted": true,
        "id": "eL6FnrFIrNvP"
      },
      "execution_count": 8,
      "outputs": []
    },
    {
      "cell_type": "code",
      "source": [
        "plt.boxplot(df.pre_clean_len) # plot pre_clean_len column\n",
        "plt.show()"
      ],
      "metadata": {
        "_uuid": "6ea295308a420efc19b769314bafdf3198cc9a85",
        "execution": {
          "iopub.status.busy": "2023-12-01T22:14:00.415712Z",
          "iopub.execute_input": "2023-12-01T22:14:00.416410Z",
          "iopub.status.idle": "2023-12-01T22:14:00.668931Z",
          "shell.execute_reply.started": "2023-12-01T22:14:00.416341Z",
          "shell.execute_reply": "2023-12-01T22:14:00.668034Z"
        },
        "trusted": true,
        "colab": {
          "base_uri": "https://localhost:8080/",
          "height": 430
        },
        "id": "Xn5XVXubrNvP",
        "outputId": "a9d33cf7-912b-47d6-dc85-e037f3ba512b"
      },
      "execution_count": 9,
      "outputs": [
        {
          "output_type": "display_data",
          "data": {
            "text/plain": [
              "<Figure size 640x480 with 1 Axes>"
            ],
            "image/png": "[encoded data removed]"
          },
          "metadata": {}
        }
      ]
    },
    {
      "cell_type": "code",
      "source": [
        "df[df.pre_clean_len > 140].head(10)  # check for any tweets greater than 140 characters"
      ],
      "metadata": {
        "_uuid": "519d0dcb51b65edfbc5a2c773e3cb3cbd1acab1c",
        "execution": {
          "iopub.status.busy": "2023-12-01T22:14:00.670566Z",
          "iopub.execute_input": "2023-12-01T22:14:00.670948Z",
          "iopub.status.idle": "2023-12-01T22:14:00.717906Z",
          "shell.execute_reply.started": "2023-12-01T22:14:00.670870Z",
          "shell.execute_reply": "2023-12-01T22:14:00.716872Z"
        },
        "trusted": true,
        "colab": {
          "base_uri": "https://localhost:8080/",
          "height": 359
        },
        "id": "yYj7uzDnrNvP",
        "outputId": "f3073f03-1f7b-447b-8473-b7a6894d1a3d"
      },
      "execution_count": 10,
      "outputs": [
        {
          "output_type": "execute_result",
          "data": {
            "text/plain": [
              "         sentiment                                               text  \\\n",
              "763853           0  Jon &amp; Kate done after all them damn kids a...   \n",
              "33640            0  If anybody remembers how Eddie embarrassed Dav...   \n",
              "1499931          4  thanks for the great tunes and prop/rb's repli...   \n",
              "570819           0  Had to drop out of the HardRock Cafe plan, was...   \n",
              "838307           4  Just spent several hours in the garden putting...   \n",
              "343              0  @TheLeagueSF Not Fun &amp; Furious? The new ma...   \n",
              "733633           0  Sleep help hopefully. Took ambien &amp; watchi...   \n",
              "1528683          4  Went to the bathroom this morning &amp; was gr...   \n",
              "1556990          4  came home &amp; saw package.. in it was @Jonas...   \n",
              "1286400          4  It's June! almost time for school! I can't wai...   \n",
              "\n",
              "         pre_clean_len  \n",
              "763853             149  \n",
              "33640              148  \n",
              "1499931            149  \n",
              "570819             142  \n",
              "838307             142  \n",
              "343                145  \n",
              "733633             146  \n",
              "1528683            141  \n",
              "1556990            156  \n",
              "1286400            142  "
            ],
            "text/html": [
              "\n",
              "  <div id=\"df-3a121063-5cb1-468c-b01d-8daa1cd6a35c\" class=\"colab-df-container\">\n",
              "    <div>\n",
              "<style scoped>\n",
              "    .dataframe tbody tr th:only-of-type {\n",
              "        vertical-align: middle;\n",
              "    }\n",
              "\n",
              "    .dataframe tbody tr th {\n",
              "        vertical-align: top;\n",
              "    }\n",
              "\n",
              "    .dataframe thead th {\n",
              "        text-align: right;\n",
              "    }\n",
              "</style>\n",
              "<table border=\"1\" class=\"dataframe\">\n",
              "  <thead>\n",
              "    <tr style=\"text-align: right;\">\n",
              "      <th></th>\n",
              "      <th>sentiment</th>\n",
              "      <th>text</th>\n",
              "      <th>pre_clean_len</th>\n",
              "    </tr>\n",
              "  </thead>\n",
              "  <tbody>\n",
              "    <tr>\n",
              "      <th>763853</th>\n",
              "      <td>0</td>\n",
              "      <td>Jon &amp;amp; Kate done after all them damn kids a...</td>\n",
              "      <td>149</td>\n",
              "    </tr>\n",
              "    <tr>\n",
              "      <th>33640</th>\n",
              "      <td>0</td>\n",
              "      <td>If anybody remembers how Eddie embarrassed Dav...</td>\n",
              "      <td>148</td>\n",
              "    </tr>\n",
              "    <tr>\n",
              "      <th>1499931</th>\n",
              "      <td>4</td>\n",
              "      <td>thanks for the great tunes and prop/rb's repli...</td>\n",
              "      <td>149</td>\n",
              "    </tr>\n",
              "    <tr>\n",
              "      <th>570819</th>\n",
              "      <td>0</td>\n",
              "      <td>Had to drop out of the HardRock Cafe plan, was...</td>\n",
              "      <td>142</td>\n",
              "    </tr>\n",
              "    <tr>\n",
              "      <th>838307</th>\n",
              "      <td>4</td>\n",
              "      <td>Just spent several hours in the garden putting...</td>\n",
              "      <td>142</td>\n",
              "    </tr>\n",
              "    <tr>\n",
              "      <th>343</th>\n",
              "      <td>0</td>\n",
              "      <td>@TheLeagueSF Not Fun &amp;amp; Furious? The new ma...</td>\n",
              "      <td>145</td>\n",
              "    </tr>\n",
              "    <tr>\n",
              "      <th>733633</th>\n",
              "      <td>0</td>\n",
              "      <td>Sleep help hopefully. Took ambien &amp;amp; watchi...</td>\n",
              "      <td>146</td>\n",
              "    </tr>\n",
              "    <tr>\n",
              "      <th>1528683</th>\n",
              "      <td>4</td>\n",
              "      <td>Went to the bathroom this morning &amp;amp; was gr...</td>\n",
              "      <td>141</td>\n",
              "    </tr>\n",
              "    <tr>\n",
              "      <th>1556990</th>\n",
              "      <td>4</td>\n",
              "      <td>came home &amp;amp; saw package.. in it was @Jonas...</td>\n",
              "      <td>156</td>\n",
              "    </tr>\n",
              "    <tr>\n",
              "      <th>1286400</th>\n",
              "      <td>4</td>\n",
              "      <td>It's June! almost time for school! I can't wai...</td>\n",
              "      <td>142</td>\n",
              "    </tr>\n",
              "  </tbody>\n",
              "</table>\n",
              "</div>\n",
              "    <div class=\"colab-df-buttons\">\n",
              "\n",
              "  <div class=\"colab-df-container\">\n",
              "    <button class=\"colab-df-convert\" onclick=\"convertToInteractive('df-3a121063-5cb1-468c-b01d-8daa1cd6a35c')\"\n",
              "            title=\"Convert this dataframe to an interactive table.\"\n",
              "            style=\"display:none;\">\n",
              "\n",
              "  <svg xmlns=\"http://www.w3.org/2000/svg\" height=\"24px\" viewBox=\"0 -960 960 960\">\n",
              "    <path d=\"M120-120v-720h720v720H120Zm60-500h600v-160H180v160Zm220 220h160v-160H400v160Zm0 220h160v-160H400v160ZM180-400h160v-160H180v160Zm440 0h160v-160H620v160ZM180-180h160v-160H180v160Zm440 0h160v-160H620v160Z\"/>\n",
              "  </svg>\n",
              "    </button>\n",
              "\n",
              "  <style>\n",
              "    .colab-df-container {\n",
              "      display:flex;\n",
              "      gap: 12px;\n",
              "    }\n",
              "\n",
              "    .colab-df-convert {\n",
              "      background-color: #E8F0FE;\n",
              "      border: none;\n",
              "      border-radius: 50%;\n",
              "      cursor: pointer;\n",
              "      display: none;\n",
              "      fill: #1967D2;\n",
              "      height: 32px;\n",
              "      padding: 0 0 0 0;\n",
              "      width: 32px;\n",
              "    }\n",
              "\n",
              "    .colab-df-convert:hover {\n",
              "      background-color: #E2EBFA;\n",
              "      box-shadow: 0px 1px 2px rgba(60, 64, 67, 0.3), 0px 1px 3px 1px rgba(60, 64, 67, 0.15);\n",
              "      fill: #174EA6;\n",
              "    }\n",
              "\n",
              "    .colab-df-buttons div {\n",
              "      margin-bottom: 4px;\n",
              "    }\n",
              "\n",
              "    [theme=dark] .colab-df-convert {\n",
              "      background-color: #3B4455;\n",
              "      fill: #D2E3FC;\n",
              "    }\n",
              "\n",
              "    [theme=dark] .colab-df-convert:hover {\n",
              "      background-color: #434B5C;\n",
              "      box-shadow: 0px 1px 3px 1px rgba(0, 0, 0, 0.15);\n",
              "      filter: drop-shadow(0px 1px 2px rgba(0, 0, 0, 0.3));\n",
              "      fill: #FFFFFF;\n",
              "    }\n",
              "  </style>\n",
              "\n",
              "    <script>\n",
              "      const buttonEl =\n",
              "        document.querySelector('#df-3a121063-5cb1-468c-b01d-8daa1cd6a35c button.colab-df-convert');\n",
              "      buttonEl.style.display =\n",
              "        google.colab.kernel.accessAllowed ? 'block' : 'none';\n",
              "\n",
              "      async function convertToInteractive(key) {\n",
              "        const element = document.querySelector('#df-3a121063-5cb1-468c-b01d-8daa1cd6a35c');\n",
              "        const dataTable =\n",
              "          await google.colab.kernel.invokeFunction('convertToInteractive',\n",
              "                                                    [key], {});\n",
              "        if (!dataTable) return;\n",
              "\n",
              "        const docLinkHtml = 'Like what you see? Visit the ' +\n",
              "          '<a target=\"_blank\" href=https://colab.research.google.com/notebooks/data_table.ipynb>data table notebook</a>'\n",
              "          + ' to learn more about interactive tables.';\n",
              "        element.innerHTML = '';\n",
              "        dataTable['output_type'] = 'display_data';\n",
              "        await google.colab.output.renderOutput(dataTable, element);\n",
              "        const docLink = document.createElement('div');\n",
              "        docLink.innerHTML = docLinkHtml;\n",
              "        element.appendChild(docLink);\n",
              "      }\n",
              "    </script>\n",
              "  </div>\n",
              "\n",
              "\n",
              "<div id=\"df-4873d927-b09a-4f24-8348-837c6a5722a4\">\n",
              "  <button class=\"colab-df-quickchart\" onclick=\"quickchart('df-4873d927-b09a-4f24-8348-837c6a5722a4')\"\n",
              "            title=\"Suggest charts\"\n",
              "            style=\"display:none;\">\n",
              "\n",
              "<svg xmlns=\"http://www.w3.org/2000/svg\" height=\"24px\"viewBox=\"0 0 24 24\"\n",
              "     width=\"24px\">\n",
              "    <g>\n",
              "        <path d=\"M19 3H5c-1.1 0-2 .9-2 2v14c0 1.1.9 2 2 2h14c1.1 0 2-.9 2-2V5c0-1.1-.9-2-2-2zM9 17H7v-7h2v7zm4 0h-2V7h2v10zm4 0h-2v-4h2v4z\"/>\n",
              "    </g>\n",
              "</svg>\n",
              "  </button>\n",
              "\n",
              "<style>\n",
              "  .colab-df-quickchart {\n",
              "      --bg-color: #E8F0FE;\n",
              "      --fill-color: #1967D2;\n",
              "      --hover-bg-color: #E2EBFA;\n",
              "      --hover-fill-color: #174EA6;\n",
              "      --disabled-fill-color: #AAA;\n",
              "      --disabled-bg-color: #DDD;\n",
              "  }\n",
              "\n",
              "  [theme=dark] .colab-df-quickchart {\n",
              "      --bg-color: #3B4455;\n",
              "      --fill-color: #D2E3FC;\n",
              "      --hover-bg-color: #434B5C;\n",
              "      --hover-fill-color: #FFFFFF;\n",
              "      --disabled-bg-color: #3B4455;\n",
              "      --disabled-fill-color: #666;\n",
              "  }\n",
              "\n",
              "  .colab-df-quickchart {\n",
              "    background-color: var(--bg-color);\n",
              "    border: none;\n",
              "    border-radius: 50%;\n",
              "    cursor: pointer;\n",
              "    display: none;\n",
              "    fill: var(--fill-color);\n",
              "    height: 32px;\n",
              "    padding: 0;\n",
              "    width: 32px;\n",
              "  }\n",
              "\n",
              "  .colab-df-quickchart:hover {\n",
              "    background-color: var(--hover-bg-color);\n",
              "    box-shadow: 0 1px 2px rgba(60, 64, 67, 0.3), 0 1px 3px 1px rgba(60, 64, 67, 0.15);\n",
              "    fill: var(--button-hover-fill-color);\n",
              "  }\n",
              "\n",
              "  .colab-df-quickchart-complete:disabled,\n",
              "  .colab-df-quickchart-complete:disabled:hover {\n",
              "    background-color: var(--disabled-bg-color);\n",
              "    fill: var(--disabled-fill-color);\n",
              "    box-shadow: none;\n",
              "  }\n",
              "\n",
              "  .colab-df-spinner {\n",
              "    border: 2px solid var(--fill-color);\n",
              "    border-color: transparent;\n",
              "    border-bottom-color: var(--fill-color);\n",
              "    animation:\n",
              "      spin 1s steps(1) infinite;\n",
              "  }\n",
              "\n",
              "  @keyframes spin {\n",
              "    0% {\n",
              "      border-color: transparent;\n",
              "      border-bottom-color: var(--fill-color);\n",
              "      border-left-color: var(--fill-color);\n",
              "    }\n",
              "    20% {\n",
              "      border-color: transparent;\n",
              "      border-left-color: var(--fill-color);\n",
              "      border-top-color: var(--fill-color);\n",
              "    }\n",
              "    30% {\n",
              "      border-color: transparent;\n",
              "      border-left-color: var(--fill-color);\n",
              "      border-top-color: var(--fill-color);\n",
              "      border-right-color: var(--fill-color);\n",
              "    }\n",
              "    40% {\n",
              "      border-color: transparent;\n",
              "      border-right-color: var(--fill-color);\n",
              "      border-top-color: var(--fill-color);\n",
              "    }\n",
              "    60% {\n",
              "      border-color: transparent;\n",
              "      border-right-color: var(--fill-color);\n",
              "    }\n",
              "    80% {\n",
              "      border-color: transparent;\n",
              "      border-right-color: var(--fill-color);\n",
              "      border-bottom-color: var(--fill-color);\n",
              "    }\n",
              "    90% {\n",
              "      border-color: transparent;\n",
              "      border-bottom-color: var(--fill-color);\n",
              "    }\n",
              "  }\n",
              "</style>\n",
              "\n",
              "  <script>\n",
              "    async function quickchart(key) {\n",
              "      const quickchartButtonEl =\n",
              "        document.querySelector('#' + key + ' button');\n",
              "      quickchartButtonEl.disabled = true;  // To prevent multiple clicks.\n",
              "      quickchartButtonEl.classList.add('colab-df-spinner');\n",
              "      try {\n",
              "        const charts = await google.colab.kernel.invokeFunction(\n",
              "            'suggestCharts', [key], {});\n",
              "      } catch (error) {\n",
              "        console.error('Error during call to suggestCharts:', error);\n",
              "      }\n",
              "      quickchartButtonEl.classList.remove('colab-df-spinner');\n",
              "      quickchartButtonEl.classList.add('colab-df-quickchart-complete');\n",
              "    }\n",
              "    (() => {\n",
              "      let quickchartButtonEl =\n",
              "        document.querySelector('#df-4873d927-b09a-4f24-8348-837c6a5722a4 button');\n",
              "      quickchartButtonEl.style.display =\n",
              "        google.colab.kernel.accessAllowed ? 'block' : 'none';\n",
              "    })();\n",
              "  </script>\n",
              "</div>\n",
              "    </div>\n",
              "  </div>\n"
            ]
          },
          "metadata": {},
          "execution_count": 10
        }
      ]
    },
    {
      "cell_type": "code",
      "source": [
        "import re\n",
        "from bs4 import BeautifulSoup\n",
        "from nltk.tokenize import WordPunctTokenizer\n",
        "tok = WordPunctTokenizer()\n",
        "\n",
        "pat1 = r'@[A-Za-z0-9_]+'        # remove @ mentions fron tweets\n",
        "pat2 = r'https?://[^ ]+'        # remove URL's from tweets\n",
        "combined_pat = r'|'.join((pat1, pat2)) #addition of pat1 and pat2\n",
        "www_pat = r'www.[^ ]+'         # remove URL's from tweets\n",
        "negations_dic = {\"isn't\":\"is not\", \"aren't\":\"are not\", \"wasn't\":\"was not\", \"weren't\":\"were not\",   # converting words like isn't to is not\n",
        "                \"haven't\":\"have not\",\"hasn't\":\"has not\",\"hadn't\":\"had not\",\"won't\":\"will not\",\n",
        "                \"wouldn't\":\"would not\", \"don't\":\"do not\", \"doesn't\":\"does not\",\"didn't\":\"did not\",\n",
        "                \"can't\":\"can not\",\"couldn't\":\"could not\",\"shouldn't\":\"should not\",\"mightn't\":\"might not\",\n",
        "                \"mustn't\":\"must not\"}\n",
        "neg_pattern = re.compile(r'\\b(' + '|'.join(negations_dic.keys()) + r')\\b')\n",
        "\n",
        "def tweet_cleaner(text):  # define tweet_cleaner function to clean the tweets\n",
        "    soup = BeautifulSoup(text, 'lxml')    # call beautiful object\n",
        "    souped = soup.get_text()   # get only text from the tweets\n",
        "    try:\n",
        "        bom_removed = souped.decode(\"utf-8-sig\").replace(u\"\\ufffd\", \"?\")    # remove utf-8-sig codeing\n",
        "    except:\n",
        "        bom_removed = souped\n",
        "    stripped = re.sub(combined_pat, '', bom_removed) # calling combined_pat\n",
        "    stripped = re.sub(www_pat, '', stripped) #remove URL's\n",
        "    lower_case = stripped.lower()      # converting all into lower case\n",
        "    neg_handled = neg_pattern.sub(lambda x: negations_dic[x.group()], lower_case) # converting word's like isn't to is not\n",
        "    letters_only = re.sub(\"[^a-zA-Z]\", \" \", neg_handled)       # will replace # by space\n",
        "    words = [x for x  in tok.tokenize(letters_only) if len(x) > 1] # Word Punct Tokenize and only consider words whose length is greater than 1\n",
        "    return (\" \".join(words)).strip() # join the words"
      ],
      "metadata": {
        "_uuid": "9641f22e5ab93b958487d7516c6b25ae6d096d7f",
        "execution": {
          "iopub.status.busy": "2023-12-01T22:14:00.719632Z",
          "iopub.execute_input": "2023-12-01T22:14:00.721150Z",
          "iopub.status.idle": "2023-12-01T22:14:00.984025Z",
          "shell.execute_reply.started": "2023-12-01T22:14:00.719969Z",
          "shell.execute_reply": "2023-12-01T22:14:00.983237Z"
        },
        "trusted": true,
        "id": "6UTAdGPArNvQ"
      },
      "execution_count": 11,
      "outputs": []
    },
    {
      "cell_type": "code",
      "source": [
        "nums = [0,400000,800000,1200000,1600000] # used for batch processing tweets\n",
        "#nums = [0, 9999]\n",
        "clean_tweet_texts = [] # initialize list\n",
        "for i in range(nums[0],nums[4]): # batch process 1.6 million tweets\n",
        "    clean_tweet_texts.append(tweet_cleaner(df['text'][i]))  # call tweet_cleaner function and pass parameter as all the tweets to clean the tweets and append cleaned tweets into clean_tweet_texts list"
      ],
      "metadata": {
        "_uuid": "bf0c499e4152e168aa1deda2d59fde0cc4dd7109",
        "execution": {
          "iopub.status.busy": "2023-12-01T22:14:00.985247Z",
          "iopub.execute_input": "2023-12-01T22:14:00.985487Z",
          "iopub.status.idle": "2023-12-01T22:23:42.639367Z",
          "shell.execute_reply.started": "2023-12-01T22:14:00.985450Z",
          "shell.execute_reply": "2023-12-01T22:23:42.638460Z"
        },
        "trusted": true,
        "colab": {
          "base_uri": "https://localhost:8080/"
        },
        "id": "nqScVv0arNvQ",
        "outputId": "a14c44d9-1a01-4b4e-c20f-c70e11ea6a16"
      },
      "execution_count": 12,
      "outputs": [
        {
          "output_type": "stream",
          "name": "stderr",
          "text": [
            "<ipython-input-11-3b6eed6abdc4>:18: MarkupResemblesLocatorWarning: The input looks more like a filename than markup. You may want to open this file and pass the filehandle into Beautiful Soup.\n",
            "  soup = BeautifulSoup(text, 'lxml')    # call beautiful object\n"
          ]
        }
      ]
    },
    {
      "cell_type": "code",
      "source": [
        "#clean_tweet_texts"
      ],
      "metadata": {
        "_uuid": "f389cd62a8d96993a80afeddf3fc3fdba7302ac5",
        "execution": {
          "iopub.status.busy": "2023-12-01T22:23:42.640834Z",
          "iopub.execute_input": "2023-12-01T22:23:42.641235Z",
          "iopub.status.idle": "2023-12-01T22:23:42.645393Z",
          "shell.execute_reply.started": "2023-12-01T22:23:42.641161Z",
          "shell.execute_reply": "2023-12-01T22:23:42.644534Z"
        },
        "trusted": true,
        "id": "D7twmQ5DrNvQ"
      },
      "execution_count": 13,
      "outputs": []
    },
    {
      "cell_type": "code",
      "source": [
        "def simple_tokenize(text):\n",
        "    return text.split()\n",
        "\n",
        "word_tokens = []\n",
        "for word in clean_tweet_texts:\n",
        "    word_tokens.append(simple_tokenize(word))\n"
      ],
      "metadata": {
        "_uuid": "a6e7070d8e2735c8ac2e29c44ddcc0bbebef31ae",
        "execution": {
          "iopub.status.busy": "2023-12-01T22:23:42.646914Z",
          "iopub.execute_input": "2023-12-01T22:23:42.647341Z",
          "iopub.status.idle": "2023-12-01T22:29:30.013259Z",
          "shell.execute_reply.started": "2023-12-01T22:23:42.647234Z",
          "shell.execute_reply": "2023-12-01T22:29:30.012232Z"
        },
        "trusted": true,
        "id": "ys6jGINhrNvQ"
      },
      "execution_count": 14,
      "outputs": []
    },
    {
      "cell_type": "code",
      "source": [
        "# word_tokens\n",
        "# stop = set(stopwords.words('english'))\n",
        "# clean_df =[]\n",
        "# for m in word_tokens:\n",
        "#     a = [w for w in m if not w in stop]\n",
        "#     clean_df.append(a)"
      ],
      "metadata": {
        "_uuid": "4f4e38a4176f889989cad59b93172855e10daf09",
        "execution": {
          "iopub.status.busy": "2023-12-01T22:29:30.015019Z",
          "iopub.execute_input": "2023-12-01T22:29:30.015492Z",
          "iopub.status.idle": "2023-12-01T22:29:30.021283Z",
          "shell.execute_reply.started": "2023-12-01T22:29:30.015405Z",
          "shell.execute_reply": "2023-12-01T22:29:30.020430Z"
        },
        "trusted": true,
        "id": "b-pXPjxNrNvQ"
      },
      "execution_count": 15,
      "outputs": []
    },
    {
      "cell_type": "code",
      "source": [
        "# Lemmatizing"
      ],
      "metadata": {
        "_uuid": "b5f3aa97e461d148cfce46a0c5cdd637004e8515",
        "execution": {
          "iopub.status.busy": "2023-12-01T22:29:30.022520Z",
          "iopub.execute_input": "2023-12-01T22:29:30.022810Z",
          "iopub.status.idle": "2023-12-01T22:29:30.032640Z",
          "shell.execute_reply.started": "2023-12-01T22:29:30.022752Z",
          "shell.execute_reply": "2023-12-01T22:29:30.031928Z"
        },
        "trusted": true,
        "id": "FkKsXrUirNvQ"
      },
      "execution_count": 16,
      "outputs": []
    },
    {
      "cell_type": "code",
      "source": [
        "import nltk\n",
        "nltk.download('wordnet')\n",
        "df1 = [] # initialize list df1 to store words after lemmatization\n",
        "from nltk.stem import WordNetLemmatizer # import WordNetLemmatizer from nltk.stem\n",
        "lemmatizer = WordNetLemmatizer() # create an object of WordNetLemmatizer\n",
        "for l in word_tokens: # for loop for every tokens in word_token\n",
        "    b = [lemmatizer.lemmatize(q) for q in l] #for every tokens in word_token lemmatize word and giev it to b\n",
        "    df1.append(b) #append b to list df1"
      ],
      "metadata": {
        "_uuid": "c376d84969410ad01103909baf916f47e8ed7337",
        "execution": {
          "iopub.status.busy": "2023-12-01T22:29:30.033795Z",
          "iopub.execute_input": "2023-12-01T22:29:30.034047Z",
          "iopub.status.idle": "2023-12-01T22:31:59.700923Z",
          "shell.execute_reply.started": "2023-12-01T22:29:30.034002Z",
          "shell.execute_reply": "2023-12-01T22:31:59.699974Z"
        },
        "trusted": true,
        "colab": {
          "base_uri": "https://localhost:8080/"
        },
        "id": "RJiKVKf_rNvR",
        "outputId": "1325d0c6-adad-4200-cc55-4a53fafe28d2"
      },
      "execution_count": 17,
      "outputs": [
        {
          "output_type": "stream",
          "name": "stderr",
          "text": [
            "[nltk_data] Downloading package wordnet to /root/nltk_data...\n",
            "[nltk_data]   Package wordnet is already up-to-date!\n"
          ]
        }
      ]
    },
    {
      "cell_type": "code",
      "source": [
        "# Stemming"
      ],
      "metadata": {
        "_uuid": "37ba3af39bd34a5ec04ec06814b00b2606721c81",
        "execution": {
          "iopub.status.busy": "2023-12-01T22:31:59.702240Z",
          "iopub.execute_input": "2023-12-01T22:31:59.702509Z",
          "iopub.status.idle": "2023-12-01T22:31:59.706871Z",
          "shell.execute_reply.started": "2023-12-01T22:31:59.702464Z",
          "shell.execute_reply": "2023-12-01T22:31:59.705926Z"
        },
        "trusted": true,
        "id": "DQ7ATHnIrNvR"
      },
      "execution_count": 18,
      "outputs": []
    },
    {
      "cell_type": "code",
      "source": [
        "# df1 = []\n",
        "# from nltk.stem import PorterStemmer\n",
        "# ps = PorterStemmer()\n",
        "# for l in word_tokens:\n",
        "#     b = [ps.stem(q) for q in l]\n",
        "#     df1.append(b)"
      ],
      "metadata": {
        "_uuid": "d0273909276503f8a61c08095a1c740fc4738603",
        "execution": {
          "iopub.status.busy": "2023-12-01T22:31:59.708311Z",
          "iopub.execute_input": "2023-12-01T22:31:59.708641Z",
          "iopub.status.idle": "2023-12-01T22:31:59.717223Z",
          "shell.execute_reply.started": "2023-12-01T22:31:59.708583Z",
          "shell.execute_reply": "2023-12-01T22:31:59.716351Z"
        },
        "trusted": true,
        "id": "S4tlK6XFrNvR"
      },
      "execution_count": 19,
      "outputs": []
    },
    {
      "cell_type": "code",
      "source": [
        "#df"
      ],
      "metadata": {
        "_uuid": "286cb16eb47e24236108fc31ed58ab3a99fad6d7",
        "execution": {
          "iopub.status.busy": "2023-12-01T22:31:59.718641Z",
          "iopub.execute_input": "2023-12-01T22:31:59.718938Z",
          "iopub.status.idle": "2023-12-01T22:31:59.728638Z",
          "shell.execute_reply.started": "2023-12-01T22:31:59.718884Z",
          "shell.execute_reply": "2023-12-01T22:31:59.727834Z"
        },
        "trusted": true,
        "id": "D_WyhZ0orNvR"
      },
      "execution_count": 20,
      "outputs": []
    },
    {
      "cell_type": "code",
      "source": [
        "clean_df1 =[] # initialize list clean_df1 to join word tokens after lemmatization\n",
        "for c in df1:  # for loop for each list in df1\n",
        "    a = \" \".join(c) # join words in list with space in between and giev it to a\n",
        "    clean_df1.append(a) # append a to clean_df1"
      ],
      "metadata": {
        "_uuid": "1dd781d617f0cf1e5f583956700a5c7966e8c5fe",
        "execution": {
          "iopub.status.busy": "2023-12-01T22:31:59.729843Z",
          "iopub.execute_input": "2023-12-01T22:31:59.730308Z",
          "iopub.status.idle": "2023-12-01T22:32:01.714023Z",
          "shell.execute_reply.started": "2023-12-01T22:31:59.730248Z",
          "shell.execute_reply": "2023-12-01T22:32:01.713185Z"
        },
        "trusted": true,
        "id": "ZLJ1FJrNrNvR"
      },
      "execution_count": 21,
      "outputs": []
    },
    {
      "cell_type": "code",
      "source": [
        "#clean_df1"
      ],
      "metadata": {
        "_uuid": "aece6a5f546a28e6e7515665eec4eb491c48c8f9",
        "execution": {
          "iopub.status.busy": "2023-12-01T22:32:01.715104Z",
          "iopub.execute_input": "2023-12-01T22:32:01.715495Z",
          "iopub.status.idle": "2023-12-01T22:32:01.719114Z",
          "shell.execute_reply.started": "2023-12-01T22:32:01.715453Z",
          "shell.execute_reply": "2023-12-01T22:32:01.718158Z"
        },
        "trusted": true,
        "id": "i0cwnXoDrNvR"
      },
      "execution_count": 22,
      "outputs": []
    },
    {
      "cell_type": "code",
      "source": [
        "clean_df = pd.DataFrame(clean_df1,columns=['text']) # convert clean_tweet_texts into dataframe and name it as clean_df\n",
        "clean_df['target'] = df.sentiment # from earlier dataframe get the sentiments of each tweet and make a new column in clean_df as target and give it all the sentiment score\n",
        "#clean_df"
      ],
      "metadata": {
        "_uuid": "3fe4acfe06158394247cb5cb3f414c6b6aad9b54",
        "execution": {
          "iopub.status.busy": "2023-12-01T22:32:01.720362Z",
          "iopub.execute_input": "2023-12-01T22:32:01.720654Z",
          "iopub.status.idle": "2023-12-01T22:32:01.901272Z",
          "shell.execute_reply.started": "2023-12-01T22:32:01.720602Z",
          "shell.execute_reply": "2023-12-01T22:32:01.900345Z"
        },
        "trusted": true,
        "id": "HwusuZHorNvR"
      },
      "execution_count": 23,
      "outputs": []
    },
    {
      "cell_type": "code",
      "source": [
        "clean_df['clean_len'] = [len(t) for t in clean_df.text] # Again make a new coloumn in the dataframe and name it as clean_len which will store thw number of words in the tweet"
      ],
      "metadata": {
        "_uuid": "b531767a36659cbb8ea15790badf59593151045b",
        "execution": {
          "iopub.status.busy": "2023-12-01T22:32:01.902633Z",
          "iopub.execute_input": "2023-12-01T22:32:01.902947Z",
          "iopub.status.idle": "2023-12-01T22:32:02.682844Z",
          "shell.execute_reply.started": "2023-12-01T22:32:01.902886Z",
          "shell.execute_reply": "2023-12-01T22:32:02.681945Z"
        },
        "trusted": true,
        "id": "DgKyNwMNrNvS"
      },
      "execution_count": 24,
      "outputs": []
    },
    {
      "cell_type": "code",
      "source": [
        "clean_df[clean_df.clean_len > 140].head(10) # agin check id any tweet is more than 140 characters"
      ],
      "metadata": {
        "_uuid": "a42b82b0b704d100845b53330b84675c3aa09715",
        "execution": {
          "iopub.status.busy": "2023-12-01T22:32:02.684137Z",
          "iopub.execute_input": "2023-12-01T22:32:02.684437Z",
          "iopub.status.idle": "2023-12-01T22:32:02.703203Z",
          "shell.execute_reply.started": "2023-12-01T22:32:02.684379Z",
          "shell.execute_reply": "2023-12-01T22:32:02.702399Z"
        },
        "trusted": true,
        "colab": {
          "base_uri": "https://localhost:8080/",
          "height": 53
        },
        "id": "OLF4InU5rNvS",
        "outputId": "b04bf04b-fbb6-4db7-fd8f-b6d740189f9d"
      },
      "execution_count": 25,
      "outputs": [
        {
          "output_type": "execute_result",
          "data": {
            "text/plain": [
              "Empty DataFrame\n",
              "Columns: [text, target, clean_len]\n",
              "Index: []"
            ],
            "text/html": [
              "\n",
              "  <div id=\"df-47003c58-83f1-40d7-b4e4-9fcd85563bdf\" class=\"colab-df-container\">\n",
              "    <div>\n",
              "<style scoped>\n",
              "    .dataframe tbody tr th:only-of-type {\n",
              "        vertical-align: middle;\n",
              "    }\n",
              "\n",
              "    .dataframe tbody tr th {\n",
              "        vertical-align: top;\n",
              "    }\n",
              "\n",
              "    .dataframe thead th {\n",
              "        text-align: right;\n",
              "    }\n",
              "</style>\n",
              "<table border=\"1\" class=\"dataframe\">\n",
              "  <thead>\n",
              "    <tr style=\"text-align: right;\">\n",
              "      <th></th>\n",
              "      <th>text</th>\n",
              "      <th>target</th>\n",
              "      <th>clean_len</th>\n",
              "    </tr>\n",
              "  </thead>\n",
              "  <tbody>\n",
              "  </tbody>\n",
              "</table>\n",
              "</div>\n",
              "    <div class=\"colab-df-buttons\">\n",
              "\n",
              "  <div class=\"colab-df-container\">\n",
              "    <button class=\"colab-df-convert\" onclick=\"convertToInteractive('df-47003c58-83f1-40d7-b4e4-9fcd85563bdf')\"\n",
              "            title=\"Convert this dataframe to an interactive table.\"\n",
              "            style=\"display:none;\">\n",
              "\n",
              "  <svg xmlns=\"http://www.w3.org/2000/svg\" height=\"24px\" viewBox=\"0 -960 960 960\">\n",
              "    <path d=\"M120-120v-720h720v720H120Zm60-500h600v-160H180v160Zm220 220h160v-160H400v160Zm0 220h160v-160H400v160ZM180-400h160v-160H180v160Zm440 0h160v-160H620v160ZM180-180h160v-160H180v160Zm440 0h160v-160H620v160Z\"/>\n",
              "  </svg>\n",
              "    </button>\n",
              "\n",
              "  <style>\n",
              "    .colab-df-container {\n",
              "      display:flex;\n",
              "      gap: 12px;\n",
              "    }\n",
              "\n",
              "    .colab-df-convert {\n",
              "      background-color: #E8F0FE;\n",
              "      border: none;\n",
              "      border-radius: 50%;\n",
              "      cursor: pointer;\n",
              "      display: none;\n",
              "      fill: #1967D2;\n",
              "      height: 32px;\n",
              "      padding: 0 0 0 0;\n",
              "      width: 32px;\n",
              "    }\n",
              "\n",
              "    .colab-df-convert:hover {\n",
              "      background-color: #E2EBFA;\n",
              "      box-shadow: 0px 1px 2px rgba(60, 64, 67, 0.3), 0px 1px 3px 1px rgba(60, 64, 67, 0.15);\n",
              "      fill: #174EA6;\n",
              "    }\n",
              "\n",
              "    .colab-df-buttons div {\n",
              "      margin-bottom: 4px;\n",
              "    }\n",
              "\n",
              "    [theme=dark] .colab-df-convert {\n",
              "      background-color: #3B4455;\n",
              "      fill: #D2E3FC;\n",
              "    }\n",
              "\n",
              "    [theme=dark] .colab-df-convert:hover {\n",
              "      background-color: #434B5C;\n",
              "      box-shadow: 0px 1px 3px 1px rgba(0, 0, 0, 0.15);\n",
              "      filter: drop-shadow(0px 1px 2px rgba(0, 0, 0, 0.3));\n",
              "      fill: #FFFFFF;\n",
              "    }\n",
              "  </style>\n",
              "\n",
              "    <script>\n",
              "      const buttonEl =\n",
              "        document.querySelector('#df-47003c58-83f1-40d7-b4e4-9fcd85563bdf button.colab-df-convert');\n",
              "      buttonEl.style.display =\n",
              "        google.colab.kernel.accessAllowed ? 'block' : 'none';\n",
              "\n",
              "      async function convertToInteractive(key) {\n",
              "        const element = document.querySelector('#df-47003c58-83f1-40d7-b4e4-9fcd85563bdf');\n",
              "        const dataTable =\n",
              "          await google.colab.kernel.invokeFunction('convertToInteractive',\n",
              "                                                    [key], {});\n",
              "        if (!dataTable) return;\n",
              "\n",
              "        const docLinkHtml = 'Like what you see? Visit the ' +\n",
              "          '<a target=\"_blank\" href=https://colab.research.google.com/notebooks/data_table.ipynb>data table notebook</a>'\n",
              "          + ' to learn more about interactive tables.';\n",
              "        element.innerHTML = '';\n",
              "        dataTable['output_type'] = 'display_data';\n",
              "        await google.colab.output.renderOutput(dataTable, element);\n",
              "        const docLink = document.createElement('div');\n",
              "        docLink.innerHTML = docLinkHtml;\n",
              "        element.appendChild(docLink);\n",
              "      }\n",
              "    </script>\n",
              "  </div>\n",
              "\n",
              "    </div>\n",
              "  </div>\n"
            ]
          },
          "metadata": {},
          "execution_count": 25
        }
      ]
    },
    {
      "cell_type": "code",
      "source": [
        "X = clean_df.text # get all the text in x variable\n",
        "y = clean_df.target # get all the sentiments into y variable\n",
        "print(X.shape) #print shape of x\n",
        "print(y.shape) # print shape of y"
      ],
      "metadata": {
        "_uuid": "502197db9f4715c524aac0bfd2c78e0dae594b11",
        "execution": {
          "iopub.status.busy": "2023-12-01T22:32:02.704755Z",
          "iopub.execute_input": "2023-12-01T22:32:02.705135Z",
          "iopub.status.idle": "2023-12-01T22:32:02.712639Z",
          "shell.execute_reply.started": "2023-12-01T22:32:02.705047Z",
          "shell.execute_reply": "2023-12-01T22:32:02.711720Z"
        },
        "trusted": true,
        "colab": {
          "base_uri": "https://localhost:8080/"
        },
        "id": "T9rsC69XrNvS",
        "outputId": "5ceb6649-c05c-4cf2-e529-d6a4314702de"
      },
      "execution_count": 26,
      "outputs": [
        {
          "output_type": "stream",
          "name": "stdout",
          "text": [
            "(1600000,)\n",
            "(1600000,)\n"
          ]
        }
      ]
    },
    {
      "cell_type": "code",
      "source": [
        "from sklearn.model_selection import train_test_split  # Corrected import statement\n",
        "X_train, X_test, y_train, y_test = train_test_split(X, y, test_size=0.20, random_state=1)\n",
        "\n",
        "# X_train is the tweets of training data, X_test is the testing tweets which we have to predict,\n",
        "# y_train is the sentiments of tweets in the training data and y_test is the sentiments of the tweets\n",
        "# which we will use to measure the accuracy of the model\n"
      ],
      "metadata": {
        "_uuid": "e2e5c8903bbad5eb74485957eb670152990df453",
        "execution": {
          "iopub.status.busy": "2023-12-01T22:32:02.714133Z",
          "iopub.execute_input": "2023-12-01T22:32:02.714492Z",
          "iopub.status.idle": "2023-12-01T22:32:03.201648Z",
          "shell.execute_reply.started": "2023-12-01T22:32:02.714414Z",
          "shell.execute_reply": "2023-12-01T22:32:03.200907Z"
        },
        "trusted": true,
        "id": "xG8UduTQrNvS"
      },
      "execution_count": 27,
      "outputs": []
    },
    {
      "cell_type": "code",
      "source": [
        "vect = TfidfVectorizer(analyzer = \"word\", ngram_range=(1,3)) # Get Tf-idf object and save it as vect. We can select features from here we just have simply change\n",
        "                                                                                     #the ngram range to change the features also we can remove stop words over here with the help of stop parameter"
      ],
      "metadata": {
        "_uuid": "8071b06cc0876fa60e17c21dc667fda7992e0257",
        "execution": {
          "iopub.status.busy": "2023-12-01T22:32:03.202878Z",
          "iopub.execute_input": "2023-12-01T22:32:03.203269Z",
          "iopub.status.idle": "2023-12-01T22:32:03.209120Z",
          "shell.execute_reply.started": "2023-12-01T22:32:03.203200Z",
          "shell.execute_reply": "2023-12-01T22:32:03.208292Z"
        },
        "trusted": true,
        "id": "8Ply6lPKrNvS"
      },
      "execution_count": 28,
      "outputs": []
    },
    {
      "cell_type": "code",
      "source": [
        "vect.fit(X_train) # fit or traing data tweets to vect\n",
        "X_train_dtm = vect.transform(X_train) # transform our training data tweets"
      ],
      "metadata": {
        "_uuid": "e7075b6bb0a7642e555a3ddaea76454d733add36",
        "execution": {
          "iopub.status.busy": "2023-12-01T22:32:03.210646Z",
          "iopub.execute_input": "2023-12-01T22:32:03.210991Z",
          "iopub.status.idle": "2023-12-01T22:36:46.309780Z",
          "shell.execute_reply.started": "2023-12-01T22:32:03.210928Z",
          "shell.execute_reply": "2023-12-01T22:36:46.308673Z"
        },
        "trusted": true,
        "id": "vJSNSI8UrNvT"
      },
      "execution_count": 29,
      "outputs": []
    },
    {
      "cell_type": "code",
      "source": [
        "X_test_dtm = vect.transform(X_test)# transform our testing data tweets"
      ],
      "metadata": {
        "_uuid": "71e8a04a9a11f0cfa9ed6db972dc500455f8cc49",
        "execution": {
          "iopub.status.busy": "2023-12-01T22:36:46.311004Z",
          "iopub.execute_input": "2023-12-01T22:36:46.311438Z",
          "iopub.status.idle": "2023-12-01T22:37:11.381397Z",
          "shell.execute_reply.started": "2023-12-01T22:36:46.311392Z",
          "shell.execute_reply": "2023-12-01T22:37:11.380360Z"
        },
        "trusted": true,
        "id": "twGrpq37rNvT"
      },
      "execution_count": 30,
      "outputs": []
    },
    {
      "cell_type": "code",
      "source": [
        "from sklearn.naive_bayes import MultinomialNB # import Multinomial Naive Bayes model from sklearn.naive_bayes\n",
        "nb = MultinomialNB(alpha = 10) # get object of Multinomial naive bayes model with alpha parameter = 10"
      ],
      "metadata": {
        "_uuid": "5522e26964a963b88c4ea8856e0496cbbf927edc",
        "execution": {
          "iopub.status.busy": "2023-12-01T22:37:11.382599Z",
          "iopub.execute_input": "2023-12-01T22:37:11.382857Z",
          "iopub.status.idle": "2023-12-01T22:37:11.390424Z",
          "shell.execute_reply.started": "2023-12-01T22:37:11.382819Z",
          "shell.execute_reply": "2023-12-01T22:37:11.389307Z"
        },
        "trusted": true,
        "id": "cRIqnb05rNvT"
      },
      "execution_count": 31,
      "outputs": []
    },
    {
      "cell_type": "code",
      "source": [
        "nb.fit(X_train_dtm, y_train)# fit our both traing data tweets as well as its sentiments to the multinomial naive bayes model"
      ],
      "metadata": {
        "_uuid": "846e0ce94403c243943d48d0cfefc8ecbd6ae656",
        "execution": {
          "iopub.status.busy": "2023-12-01T22:37:11.391619Z",
          "iopub.execute_input": "2023-12-01T22:37:11.391886Z",
          "iopub.status.idle": "2023-12-01T22:37:13.421675Z",
          "shell.execute_reply.started": "2023-12-01T22:37:11.391840Z",
          "shell.execute_reply": "2023-12-01T22:37:13.421008Z"
        },
        "trusted": true,
        "colab": {
          "base_uri": "https://localhost:8080/",
          "height": 74
        },
        "id": "bFaEmsf8rNvT",
        "outputId": "69621cf7-4326-4544-d663-260875ac7dcc"
      },
      "execution_count": 32,
      "outputs": [
        {
          "output_type": "execute_result",
          "data": {
            "text/plain": [
              "MultinomialNB(alpha=10)"
            ],
            "text/html": [
              "<style>#sk-container-id-1 {color: black;background-color: white;}#sk-container-id-1 pre{padding: 0;}#sk-container-id-1 div.sk-toggleable {background-color: white;}#sk-container-id-1 label.sk-toggleable__label {cursor: pointer;display: block;width: 100%;margin-bottom: 0;padding: 0.3em;box-sizing: border-box;text-align: center;}#sk-container-id-1 label.sk-toggleable__label-arrow:before {content: \"▸\";float: left;margin-right: 0.25em;color: #696969;}#sk-container-id-1 label.sk-toggleable__label-arrow:hover:before {color: black;}#sk-container-id-1 div.sk-estimator:hover label.sk-toggleable__label-arrow:before {color: black;}#sk-container-id-1 div.sk-toggleable__content {max-height: 0;max-width: 0;overflow: hidden;text-align: left;background-color: #f0f8ff;}#sk-container-id-1 div.sk-toggleable__content pre {margin: 0.2em;color: black;border-radius: 0.25em;background-color: #f0f8ff;}#sk-container-id-1 input.sk-toggleable__control:checked~div.sk-toggleable__content {max-height: 200px;max-width: 100%;overflow: auto;}#sk-container-id-1 input.sk-toggleable__control:checked~label.sk-toggleable__label-arrow:before {content: \"▾\";}#sk-container-id-1 div.sk-estimator input.sk-toggleable__control:checked~label.sk-toggleable__label {background-color: #d4ebff;}#sk-container-id-1 div.sk-label input.sk-toggleable__control:checked~label.sk-toggleable__label {background-color: #d4ebff;}#sk-container-id-1 input.sk-hidden--visually {border: 0;clip: rect(1px 1px 1px 1px);clip: rect(1px, 1px, 1px, 1px);height: 1px;margin: -1px;overflow: hidden;padding: 0;position: absolute;width: 1px;}#sk-container-id-1 div.sk-estimator {font-family: monospace;background-color: #f0f8ff;border: 1px dotted black;border-radius: 0.25em;box-sizing: border-box;margin-bottom: 0.5em;}#sk-container-id-1 div.sk-estimator:hover {background-color: #d4ebff;}#sk-container-id-1 div.sk-parallel-item::after {content: \"\";width: 100%;border-bottom: 1px solid gray;flex-grow: 1;}#sk-container-id-1 div.sk-label:hover label.sk-toggleable__label {background-color: #d4ebff;}#sk-container-id-1 div.sk-serial::before {content: \"\";position: absolute;border-left: 1px solid gray;box-sizing: border-box;top: 0;bottom: 0;left: 50%;z-index: 0;}#sk-container-id-1 div.sk-serial {display: flex;flex-direction: column;align-items: center;background-color: white;padding-right: 0.2em;padding-left: 0.2em;position: relative;}#sk-container-id-1 div.sk-item {position: relative;z-index: 1;}#sk-container-id-1 div.sk-parallel {display: flex;align-items: stretch;justify-content: center;background-color: white;position: relative;}#sk-container-id-1 div.sk-item::before, #sk-container-id-1 div.sk-parallel-item::before {content: \"\";position: absolute;border-left: 1px solid gray;box-sizing: border-box;top: 0;bottom: 0;left: 50%;z-index: -1;}#sk-container-id-1 div.sk-parallel-item {display: flex;flex-direction: column;z-index: 1;position: relative;background-color: white;}#sk-container-id-1 div.sk-parallel-item:first-child::after {align-self: flex-end;width: 50%;}#sk-container-id-1 div.sk-parallel-item:last-child::after {align-self: flex-start;width: 50%;}#sk-container-id-1 div.sk-parallel-item:only-child::after {width: 0;}#sk-container-id-1 div.sk-dashed-wrapped {border: 1px dashed gray;margin: 0 0.4em 0.5em 0.4em;box-sizing: border-box;padding-bottom: 0.4em;background-color: white;}#sk-container-id-1 div.sk-label label {font-family: monospace;font-weight: bold;display: inline-block;line-height: 1.2em;}#sk-container-id-1 div.sk-label-container {text-align: center;}#sk-container-id-1 div.sk-container {/* jupyter's `normalize.less` sets `[hidden] { display: none; }` but bootstrap.min.css set `[hidden] { display: none !important; }` so we also need the `!important` here to be able to override the default hidden behavior on the sphinx rendered scikit-learn.org. See: https://github.com/scikit-learn/scikit-learn/issues/21755 */display: inline-block !important;position: relative;}#sk-container-id-1 div.sk-text-repr-fallback {display: none;}</style><div id=\"sk-container-id-1\" class=\"sk-top-container\"><div class=\"sk-text-repr-fallback\"><pre>MultinomialNB(alpha=10)</pre><b>In a Jupyter environment, please rerun this cell to show the HTML representation or trust the notebook. <br />On GitHub, the HTML representation is unable to render, please try loading this page with nbviewer.org.</b></div><div class=\"sk-container\" hidden><div class=\"sk-item\"><div class=\"sk-estimator sk-toggleable\"><input class=\"sk-toggleable__control sk-hidden--visually\" id=\"sk-estimator-id-1\" type=\"checkbox\" checked><label for=\"sk-estimator-id-1\" class=\"sk-toggleable__label sk-toggleable__label-arrow\">MultinomialNB</label><div class=\"sk-toggleable__content\"><pre>MultinomialNB(alpha=10)</pre></div></div></div></div></div>"
            ]
          },
          "metadata": {},
          "execution_count": 32
        }
      ]
    },
    {
      "cell_type": "code",
      "source": [
        "from sklearn.model_selection import cross_val_score  # import cross_val_score from sklear.model_selection\n",
        "accuracies = cross_val_score(estimator = nb, X = X_train_dtm, y = y_train, cv = 10) # do K- fold cross validation on our traing data and its sentimenst with 10 fold cross validation\n",
        "accuracies.mean() # measure the mean accuray of 10 fold cross validation"
      ],
      "metadata": {
        "_uuid": "e323e5e25dc40a41646248354ccb7346d87dabd3",
        "execution": {
          "iopub.status.busy": "2023-12-01T22:37:13.422961Z",
          "iopub.execute_input": "2023-12-01T22:37:13.423499Z",
          "iopub.status.idle": "2023-12-01T22:38:04.366999Z",
          "shell.execute_reply.started": "2023-12-01T22:37:13.423448Z",
          "shell.execute_reply": "2023-12-01T22:38:04.366121Z"
        },
        "trusted": true,
        "colab": {
          "base_uri": "https://localhost:8080/"
        },
        "id": "GoFeIa_ArNvU",
        "outputId": "cc4ba17d-1855-4939-f6e5-11b546225986"
      },
      "execution_count": 33,
      "outputs": [
        {
          "output_type": "execute_result",
          "data": {
            "text/plain": [
              "0.79628515625"
            ]
          },
          "metadata": {},
          "execution_count": 33
        }
      ]
    },
    {
      "cell_type": "code",
      "source": [
        "y_pred_nb = nb.predict(X_test_dtm) # predict the sentiments of testing data tweets"
      ],
      "metadata": {
        "_uuid": "03d1edab79763c6767091bed4467f2d6cd03f5b5",
        "execution": {
          "iopub.status.busy": "2023-12-01T22:38:04.368531Z",
          "iopub.execute_input": "2023-12-01T22:38:04.369094Z",
          "iopub.status.idle": "2023-12-01T22:38:04.777935Z",
          "shell.execute_reply.started": "2023-12-01T22:38:04.369002Z",
          "shell.execute_reply": "2023-12-01T22:38:04.777208Z"
        },
        "trusted": true,
        "id": "mZhiTUO6rNvU"
      },
      "execution_count": 34,
      "outputs": []
    },
    {
      "cell_type": "code",
      "source": [
        "from sklearn import metrics # import metrics from sklearn\n",
        "metrics.accuracy_score(y_test, y_pred_nb) # measure the accuracy of our model on the testing data"
      ],
      "metadata": {
        "_uuid": "6121caacf805586aeb555a1287913222c08531dc",
        "execution": {
          "iopub.status.busy": "2023-12-01T22:38:04.779334Z",
          "iopub.execute_input": "2023-12-01T22:38:04.779893Z",
          "iopub.status.idle": "2023-12-01T22:38:04.829782Z",
          "shell.execute_reply.started": "2023-12-01T22:38:04.779829Z",
          "shell.execute_reply": "2023-12-01T22:38:04.828803Z"
        },
        "trusted": true,
        "colab": {
          "base_uri": "https://localhost:8080/"
        },
        "id": "cydtXrHlrNvU",
        "outputId": "43e7abf8-9c0d-4cbd-81d3-7fde768b3a26"
      },
      "execution_count": 35,
      "outputs": [
        {
          "output_type": "execute_result",
          "data": {
            "text/plain": [
              "0.79735625"
            ]
          },
          "metadata": {},
          "execution_count": 35
        }
      ]
    },
    {
      "cell_type": "code",
      "source": [
        "from sklearn.metrics import confusion_matrix # import confusion matrix from the sklearn.metrics\n",
        "confusion_matrix(y_test, y_pred_nb) # plot the confusion matrix between our predicted sentiments and the original testing data sentiments"
      ],
      "metadata": {
        "_uuid": "e74e7741a785136ace290cf60f44156c085352ca",
        "execution": {
          "iopub.status.busy": "2023-12-01T22:38:04.831353Z",
          "iopub.execute_input": "2023-12-01T22:38:04.831890Z",
          "iopub.status.idle": "2023-12-01T22:38:05.318315Z",
          "shell.execute_reply.started": "2023-12-01T22:38:04.831823Z",
          "shell.execute_reply": "2023-12-01T22:38:05.317406Z"
        },
        "trusted": true,
        "colab": {
          "base_uri": "https://localhost:8080/"
        },
        "id": "GI80lnrmrNvU",
        "outputId": "af3f40f7-d88e-4f21-ae5e-abda37519e79"
      },
      "execution_count": 36,
      "outputs": [
        {
          "output_type": "execute_result",
          "data": {
            "text/plain": [
              "array([[138107,  22049],\n",
              "       [ 42797, 117047]])"
            ]
          },
          "metadata": {},
          "execution_count": 36
        }
      ]
    },
    {
      "cell_type": "code",
      "source": [
        "from sklearn.linear_model import LogisticRegression # import Logistic Regression model from sklearn.linear_model\n",
        "logisticRegr = LogisticRegression(C = 1.1, solver='saga', max_iter=1000) # get object of logistic regression model with cost parameter = 1.1"
      ],
      "metadata": {
        "_uuid": "785716d610ecf205c87613086325ff195d2b41b5",
        "execution": {
          "iopub.status.busy": "2023-12-01T22:38:05.319765Z",
          "iopub.execute_input": "2023-12-01T22:38:05.320343Z",
          "iopub.status.idle": "2023-12-01T22:38:05.325650Z",
          "shell.execute_reply.started": "2023-12-01T22:38:05.320279Z",
          "shell.execute_reply": "2023-12-01T22:38:05.324794Z"
        },
        "trusted": true,
        "id": "NNx1hzwzrNvV"
      },
      "execution_count": 40,
      "outputs": []
    },
    {
      "cell_type": "code",
      "source": [
        "logisticRegr.fit(X_train_dtm, y_train)# fit our both traing data tweets as well as its sentiments to the logistic regression model"
      ],
      "metadata": {
        "_uuid": "635229691aa44ffd92444a78782ace12f485bf12",
        "execution": {
          "iopub.status.busy": "2023-12-01T22:38:05.327050Z",
          "iopub.execute_input": "2023-12-01T22:38:05.327606Z",
          "iopub.status.idle": "2023-12-01T22:40:03.482745Z",
          "shell.execute_reply.started": "2023-12-01T22:38:05.327531Z",
          "shell.execute_reply": "2023-12-01T22:40:03.482130Z"
        },
        "trusted": true,
        "colab": {
          "base_uri": "https://localhost:8080/",
          "height": 230
        },
        "id": "0UYRscUOrNvV",
        "outputId": "03d797b1-5d4a-4347-a321-138b1e38c8e7"
      },
      "execution_count": 38,
      "outputs": [
        {
          "output_type": "stream",
          "name": "stderr",
          "text": [
            "/usr/local/lib/python3.10/dist-packages/sklearn/linear_model/_logistic.py:458: ConvergenceWarning: lbfgs failed to converge (status=1):\n",
            "STOP: TOTAL NO. of ITERATIONS REACHED LIMIT.\n",
            "\n",
            "Increase the number of iterations (max_iter) or scale the data as shown in:\n",
            "    https://scikit-learn.org/stable/modules/preprocessing.html\n",
            "Please also refer to the documentation for alternative solver options:\n",
            "    https://scikit-learn.org/stable/modules/linear_model.html#logistic-regression\n",
            "  n_iter_i = _check_optimize_result(\n"
          ]
        },
        {
          "output_type": "execute_result",
          "data": {
            "text/plain": [
              "LogisticRegression(C=1.1)"
            ],
            "text/html": [
              "<style>#sk-container-id-2 {color: black;background-color: white;}#sk-container-id-2 pre{padding: 0;}#sk-container-id-2 div.sk-toggleable {background-color: white;}#sk-container-id-2 label.sk-toggleable__label {cursor: pointer;display: block;width: 100%;margin-bottom: 0;padding: 0.3em;box-sizing: border-box;text-align: center;}#sk-container-id-2 label.sk-toggleable__label-arrow:before {content: \"▸\";float: left;margin-right: 0.25em;color: #696969;}#sk-container-id-2 label.sk-toggleable__label-arrow:hover:before {color: black;}#sk-container-id-2 div.sk-estimator:hover label.sk-toggleable__label-arrow:before {color: black;}#sk-container-id-2 div.sk-toggleable__content {max-height: 0;max-width: 0;overflow: hidden;text-align: left;background-color: #f0f8ff;}#sk-container-id-2 div.sk-toggleable__content pre {margin: 0.2em;color: black;border-radius: 0.25em;background-color: #f0f8ff;}#sk-container-id-2 input.sk-toggleable__control:checked~div.sk-toggleable__content {max-height: 200px;max-width: 100%;overflow: auto;}#sk-container-id-2 input.sk-toggleable__control:checked~label.sk-toggleable__label-arrow:before {content: \"▾\";}#sk-container-id-2 div.sk-estimator input.sk-toggleable__control:checked~label.sk-toggleable__label {background-color: #d4ebff;}#sk-container-id-2 div.sk-label input.sk-toggleable__control:checked~label.sk-toggleable__label {background-color: #d4ebff;}#sk-container-id-2 input.sk-hidden--visually {border: 0;clip: rect(1px 1px 1px 1px);clip: rect(1px, 1px, 1px, 1px);height: 1px;margin: -1px;overflow: hidden;padding: 0;position: absolute;width: 1px;}#sk-container-id-2 div.sk-estimator {font-family: monospace;background-color: #f0f8ff;border: 1px dotted black;border-radius: 0.25em;box-sizing: border-box;margin-bottom: 0.5em;}#sk-container-id-2 div.sk-estimator:hover {background-color: #d4ebff;}#sk-container-id-2 div.sk-parallel-item::after {content: \"\";width: 100%;border-bottom: 1px solid gray;flex-grow: 1;}#sk-container-id-2 div.sk-label:hover label.sk-toggleable__label {background-color: #d4ebff;}#sk-container-id-2 div.sk-serial::before {content: \"\";position: absolute;border-left: 1px solid gray;box-sizing: border-box;top: 0;bottom: 0;left: 50%;z-index: 0;}#sk-container-id-2 div.sk-serial {display: flex;flex-direction: column;align-items: center;background-color: white;padding-right: 0.2em;padding-left: 0.2em;position: relative;}#sk-container-id-2 div.sk-item {position: relative;z-index: 1;}#sk-container-id-2 div.sk-parallel {display: flex;align-items: stretch;justify-content: center;background-color: white;position: relative;}#sk-container-id-2 div.sk-item::before, #sk-container-id-2 div.sk-parallel-item::before {content: \"\";position: absolute;border-left: 1px solid gray;box-sizing: border-box;top: 0;bottom: 0;left: 50%;z-index: -1;}#sk-container-id-2 div.sk-parallel-item {display: flex;flex-direction: column;z-index: 1;position: relative;background-color: white;}#sk-container-id-2 div.sk-parallel-item:first-child::after {align-self: flex-end;width: 50%;}#sk-container-id-2 div.sk-parallel-item:last-child::after {align-self: flex-start;width: 50%;}#sk-container-id-2 div.sk-parallel-item:only-child::after {width: 0;}#sk-container-id-2 div.sk-dashed-wrapped {border: 1px dashed gray;margin: 0 0.4em 0.5em 0.4em;box-sizing: border-box;padding-bottom: 0.4em;background-color: white;}#sk-container-id-2 div.sk-label label {font-family: monospace;font-weight: bold;display: inline-block;line-height: 1.2em;}#sk-container-id-2 div.sk-label-container {text-align: center;}#sk-container-id-2 div.sk-container {/* jupyter's `normalize.less` sets `[hidden] { display: none; }` but bootstrap.min.css set `[hidden] { display: none !important; }` so we also need the `!important` here to be able to override the default hidden behavior on the sphinx rendered scikit-learn.org. See: https://github.com/scikit-learn/scikit-learn/issues/21755 */display: inline-block !important;position: relative;}#sk-container-id-2 div.sk-text-repr-fallback {display: none;}</style><div id=\"sk-container-id-2\" class=\"sk-top-container\"><div class=\"sk-text-repr-fallback\"><pre>LogisticRegression(C=1.1)</pre><b>In a Jupyter environment, please rerun this cell to show the HTML representation or trust the notebook. <br />On GitHub, the HTML representation is unable to render, please try loading this page with nbviewer.org.</b></div><div class=\"sk-container\" hidden><div class=\"sk-item\"><div class=\"sk-estimator sk-toggleable\"><input class=\"sk-toggleable__control sk-hidden--visually\" id=\"sk-estimator-id-2\" type=\"checkbox\" checked><label for=\"sk-estimator-id-2\" class=\"sk-toggleable__label sk-toggleable__label-arrow\">LogisticRegression</label><div class=\"sk-toggleable__content\"><pre>LogisticRegression(C=1.1)</pre></div></div></div></div></div>"
            ]
          },
          "metadata": {},
          "execution_count": 38
        }
      ]
    },
    {
      "cell_type": "code",
      "source": [
        "from sklearn.model_selection import cross_val_score # import cross_val_score from sklear.model_selection\n",
        "accuracies = cross_val_score(estimator = logisticRegr, X = X_train_dtm, y = y_train, cv = 10) # do K- fold cross validation on our traing data and its sentimenst with 10 fold cross validation\n",
        "accuracies.mean() # measure the mean accuray of 10 fold cross validation"
      ],
      "metadata": {
        "_uuid": "4ab45adb5cc9f940f51056371d647bf2bdcc2c97",
        "execution": {
          "iopub.status.busy": "2023-12-01T22:40:03.483863Z",
          "iopub.execute_input": "2023-12-01T22:40:03.484283Z",
          "iopub.status.idle": "2023-12-01T22:58:53.686724Z",
          "shell.execute_reply.started": "2023-12-01T22:40:03.484218Z",
          "shell.execute_reply": "2023-12-01T22:58:53.685815Z"
        },
        "trusted": true,
        "colab": {
          "base_uri": "https://localhost:8080/"
        },
        "id": "n48r6LUJrNvV",
        "outputId": "32bad682-5ded-4d1a-ea59-c2c6cfc2cdc9"
      },
      "execution_count": 41,
      "outputs": [
        {
          "output_type": "execute_result",
          "data": {
            "text/plain": [
              "0.82189765625"
            ]
          },
          "metadata": {},
          "execution_count": 41
        }
      ]
    },
    {
      "cell_type": "code",
      "source": [
        "# Fit the logistic regression model with training data\n",
        "logisticRegr.fit(X_train_dtm, y_train)\n",
        "\n",
        "# After fitting, make predictions on the test data\n",
        "y_pred_lg = logisticRegr.predict(X_test_dtm)\n"
      ],
      "metadata": {
        "_uuid": "d070eca7ba81212f5bc5009d5c98ebdfcbec809e",
        "execution": {
          "iopub.status.busy": "2023-12-01T22:58:53.688193Z",
          "iopub.execute_input": "2023-12-01T22:58:53.688552Z",
          "iopub.status.idle": "2023-12-01T22:58:53.770625Z",
          "shell.execute_reply.started": "2023-12-01T22:58:53.688473Z",
          "shell.execute_reply": "2023-12-01T22:58:53.769701Z"
        },
        "trusted": true,
        "id": "l7UfCsvarNvW"
      },
      "execution_count": 43,
      "outputs": []
    },
    {
      "cell_type": "code",
      "source": [
        "from sklearn import metrics # import metrics from sklearn\n",
        "metrics.accuracy_score(y_test, y_pred_lg) # measure the accuracy of our model on the testing data"
      ],
      "metadata": {
        "_uuid": "ff95d066b9acc95e9b2734a6475a5b9b85168fc5",
        "execution": {
          "iopub.status.busy": "2023-12-01T22:58:53.772014Z",
          "iopub.execute_input": "2023-12-01T22:58:53.772366Z",
          "iopub.status.idle": "2023-12-01T22:58:53.811838Z",
          "shell.execute_reply.started": "2023-12-01T22:58:53.772307Z",
          "shell.execute_reply": "2023-12-01T22:58:53.811112Z"
        },
        "trusted": true,
        "colab": {
          "base_uri": "https://localhost:8080/"
        },
        "id": "6O-wMHEurNvW",
        "outputId": "22e98174-62ef-4d5f-af3d-ab496c6e5c56"
      },
      "execution_count": 44,
      "outputs": [
        {
          "output_type": "execute_result",
          "data": {
            "text/plain": [
              "0.824646875"
            ]
          },
          "metadata": {},
          "execution_count": 44
        }
      ]
    },
    {
      "cell_type": "code",
      "source": [
        "from sklearn.metrics import confusion_matrix # import confusion matrix from the sklearn.metrics\n",
        "confusion_matrix(y_test, y_pred_lg) # plot the confusion matrix between our predicted sentiments and the original testing data sentiments"
      ],
      "metadata": {
        "_uuid": "776c92bd3af3c3b5b2da6f36e46143d734cf41b0",
        "execution": {
          "iopub.status.busy": "2023-12-01T22:58:53.813184Z",
          "iopub.execute_input": "2023-12-01T22:58:53.813491Z",
          "iopub.status.idle": "2023-12-01T22:58:54.303502Z",
          "shell.execute_reply.started": "2023-12-01T22:58:53.813434Z",
          "shell.execute_reply": "2023-12-01T22:58:54.302720Z"
        },
        "trusted": true,
        "colab": {
          "base_uri": "https://localhost:8080/"
        },
        "id": "UvXtRNlHrNvW",
        "outputId": "fc46a7af-86f7-4e38-970e-51b2f16b004a"
      },
      "execution_count": 45,
      "outputs": [
        {
          "output_type": "execute_result",
          "data": {
            "text/plain": [
              "array([[133979,  26177],\n",
              "       [ 29936, 129908]])"
            ]
          },
          "metadata": {},
          "execution_count": 45
        }
      ]
    },
    {
      "cell_type": "code",
      "source": [
        "from sklearn.svm import LinearSVC # import SVC model from sklearn.svm\n",
        "svm_clf = LinearSVC(random_state=0) # get object of SVC model with random_state parameter = 0"
      ],
      "metadata": {
        "_uuid": "77e90f4e916f3a86a5c1ce618690694343d6e5e7",
        "execution": {
          "iopub.status.busy": "2023-12-01T22:58:54.304699Z",
          "iopub.execute_input": "2023-12-01T22:58:54.304994Z",
          "iopub.status.idle": "2023-12-01T22:58:54.310001Z",
          "shell.execute_reply.started": "2023-12-01T22:58:54.304941Z",
          "shell.execute_reply": "2023-12-01T22:58:54.309253Z"
        },
        "trusted": true,
        "id": "rhfNY1T8rNvX"
      },
      "execution_count": 46,
      "outputs": []
    },
    {
      "cell_type": "code",
      "source": [
        "svm_clf.fit(X_train_dtm, y_train)# fit our both traing data tweets as well as its sentiments to the SVC model"
      ],
      "metadata": {
        "_uuid": "0618cb437c54fa8136979a9d583352f5f3ee9083",
        "execution": {
          "iopub.status.busy": "2023-12-01T22:58:54.311272Z",
          "iopub.execute_input": "2023-12-01T22:58:54.311572Z",
          "iopub.status.idle": "2023-12-01T22:59:45.212358Z",
          "shell.execute_reply.started": "2023-12-01T22:58:54.311516Z",
          "shell.execute_reply": "2023-12-01T22:59:45.211592Z"
        },
        "trusted": true,
        "colab": {
          "base_uri": "https://localhost:8080/",
          "height": 74
        },
        "id": "FH7B7U6UrNvX",
        "outputId": "7f7ec1e6-fc52-4c04-9e7a-1ae6dbd55a06"
      },
      "execution_count": 47,
      "outputs": [
        {
          "output_type": "execute_result",
          "data": {
            "text/plain": [
              "LinearSVC(random_state=0)"
            ],
            "text/html": [
              "<style>#sk-container-id-3 {color: black;background-color: white;}#sk-container-id-3 pre{padding: 0;}#sk-container-id-3 div.sk-toggleable {background-color: white;}#sk-container-id-3 label.sk-toggleable__label {cursor: pointer;display: block;width: 100%;margin-bottom: 0;padding: 0.3em;box-sizing: border-box;text-align: center;}#sk-container-id-3 label.sk-toggleable__label-arrow:before {content: \"▸\";float: left;margin-right: 0.25em;color: #696969;}#sk-container-id-3 label.sk-toggleable__label-arrow:hover:before {color: black;}#sk-container-id-3 div.sk-estimator:hover label.sk-toggleable__label-arrow:before {color: black;}#sk-container-id-3 div.sk-toggleable__content {max-height: 0;max-width: 0;overflow: hidden;text-align: left;background-color: #f0f8ff;}#sk-container-id-3 div.sk-toggleable__content pre {margin: 0.2em;color: black;border-radius: 0.25em;background-color: #f0f8ff;}#sk-container-id-3 input.sk-toggleable__control:checked~div.sk-toggleable__content {max-height: 200px;max-width: 100%;overflow: auto;}#sk-container-id-3 input.sk-toggleable__control:checked~label.sk-toggleable__label-arrow:before {content: \"▾\";}#sk-container-id-3 div.sk-estimator input.sk-toggleable__control:checked~label.sk-toggleable__label {background-color: #d4ebff;}#sk-container-id-3 div.sk-label input.sk-toggleable__control:checked~label.sk-toggleable__label {background-color: #d4ebff;}#sk-container-id-3 input.sk-hidden--visually {border: 0;clip: rect(1px 1px 1px 1px);clip: rect(1px, 1px, 1px, 1px);height: 1px;margin: -1px;overflow: hidden;padding: 0;position: absolute;width: 1px;}#sk-container-id-3 div.sk-estimator {font-family: monospace;background-color: #f0f8ff;border: 1px dotted black;border-radius: 0.25em;box-sizing: border-box;margin-bottom: 0.5em;}#sk-container-id-3 div.sk-estimator:hover {background-color: #d4ebff;}#sk-container-id-3 div.sk-parallel-item::after {content: \"\";width: 100%;border-bottom: 1px solid gray;flex-grow: 1;}#sk-container-id-3 div.sk-label:hover label.sk-toggleable__label {background-color: #d4ebff;}#sk-container-id-3 div.sk-serial::before {content: \"\";position: absolute;border-left: 1px solid gray;box-sizing: border-box;top: 0;bottom: 0;left: 50%;z-index: 0;}#sk-container-id-3 div.sk-serial {display: flex;flex-direction: column;align-items: center;background-color: white;padding-right: 0.2em;padding-left: 0.2em;position: relative;}#sk-container-id-3 div.sk-item {position: relative;z-index: 1;}#sk-container-id-3 div.sk-parallel {display: flex;align-items: stretch;justify-content: center;background-color: white;position: relative;}#sk-container-id-3 div.sk-item::before, #sk-container-id-3 div.sk-parallel-item::before {content: \"\";position: absolute;border-left: 1px solid gray;box-sizing: border-box;top: 0;bottom: 0;left: 50%;z-index: -1;}#sk-container-id-3 div.sk-parallel-item {display: flex;flex-direction: column;z-index: 1;position: relative;background-color: white;}#sk-container-id-3 div.sk-parallel-item:first-child::after {align-self: flex-end;width: 50%;}#sk-container-id-3 div.sk-parallel-item:last-child::after {align-self: flex-start;width: 50%;}#sk-container-id-3 div.sk-parallel-item:only-child::after {width: 0;}#sk-container-id-3 div.sk-dashed-wrapped {border: 1px dashed gray;margin: 0 0.4em 0.5em 0.4em;box-sizing: border-box;padding-bottom: 0.4em;background-color: white;}#sk-container-id-3 div.sk-label label {font-family: monospace;font-weight: bold;display: inline-block;line-height: 1.2em;}#sk-container-id-3 div.sk-label-container {text-align: center;}#sk-container-id-3 div.sk-container {/* jupyter's `normalize.less` sets `[hidden] { display: none; }` but bootstrap.min.css set `[hidden] { display: none !important; }` so we also need the `!important` here to be able to override the default hidden behavior on the sphinx rendered scikit-learn.org. See: https://github.com/scikit-learn/scikit-learn/issues/21755 */display: inline-block !important;position: relative;}#sk-container-id-3 div.sk-text-repr-fallback {display: none;}</style><div id=\"sk-container-id-3\" class=\"sk-top-container\"><div class=\"sk-text-repr-fallback\"><pre>LinearSVC(random_state=0)</pre><b>In a Jupyter environment, please rerun this cell to show the HTML representation or trust the notebook. <br />On GitHub, the HTML representation is unable to render, please try loading this page with nbviewer.org.</b></div><div class=\"sk-container\" hidden><div class=\"sk-item\"><div class=\"sk-estimator sk-toggleable\"><input class=\"sk-toggleable__control sk-hidden--visually\" id=\"sk-estimator-id-3\" type=\"checkbox\" checked><label for=\"sk-estimator-id-3\" class=\"sk-toggleable__label sk-toggleable__label-arrow\">LinearSVC</label><div class=\"sk-toggleable__content\"><pre>LinearSVC(random_state=0)</pre></div></div></div></div></div>"
            ]
          },
          "metadata": {},
          "execution_count": 47
        }
      ]
    },
    {
      "cell_type": "code",
      "source": [
        "from sklearn.model_selection import cross_val_score  # import cross_val_score from sklear.model_selection\n",
        "accuracies = cross_val_score(estimator = svm_clf, X = X_train_dtm, y = y_train, cv = 10)# do K- fold cross validation on our traing data and its sentimenst with 10 fold cross validation\n",
        "accuracies.mean() # measure the mean accuray of 10 fold cross validation"
      ],
      "metadata": {
        "_uuid": "e1b0f04196ab17e8589bfe01fa6e1779ba3c7748",
        "execution": {
          "iopub.status.busy": "2023-12-01T22:59:45.213568Z",
          "iopub.execute_input": "2023-12-01T22:59:45.214036Z",
          "iopub.status.idle": "2023-12-01T23:07:42.040024Z",
          "shell.execute_reply.started": "2023-12-01T22:59:45.213988Z",
          "shell.execute_reply": "2023-12-01T23:07:42.038872Z"
        },
        "trusted": true,
        "colab": {
          "base_uri": "https://localhost:8080/"
        },
        "id": "VKnYJt1ZrNvX",
        "outputId": "44416dac-d92f-42fe-e06a-d77f0b878cb6"
      },
      "execution_count": 48,
      "outputs": [
        {
          "output_type": "execute_result",
          "data": {
            "text/plain": [
              "0.8238867187500001"
            ]
          },
          "metadata": {},
          "execution_count": 48
        }
      ]
    },
    {
      "cell_type": "code",
      "source": [
        "y_pred_svm = svm_clf.predict(X_test_dtm)  # predict the sentiments of testing data tweets"
      ],
      "metadata": {
        "_uuid": "f4690b37c804a18f70fc3cada9b35f38d0b0eef9",
        "execution": {
          "iopub.status.busy": "2023-12-01T23:07:42.045985Z",
          "iopub.execute_input": "2023-12-01T23:07:42.048279Z",
          "iopub.status.idle": "2023-12-01T23:07:42.160959Z",
          "shell.execute_reply.started": "2023-12-01T23:07:42.048206Z",
          "shell.execute_reply": "2023-12-01T23:07:42.160119Z"
        },
        "trusted": true,
        "id": "YPXdL1ISrNvX"
      },
      "execution_count": 49,
      "outputs": []
    },
    {
      "cell_type": "code",
      "source": [
        "from sklearn import metrics  # import metrics from sklearn\n",
        "metrics.accuracy_score(y_test, y_pred_svm)  # measure the accuracy of our model on the testing data"
      ],
      "metadata": {
        "_uuid": "85e37d2b750faee33b964b2bf11de8ed9bd937ed",
        "execution": {
          "iopub.status.busy": "2023-12-01T23:07:42.162189Z",
          "iopub.execute_input": "2023-12-01T23:07:42.162616Z",
          "iopub.status.idle": "2023-12-01T23:07:42.207220Z",
          "shell.execute_reply.started": "2023-12-01T23:07:42.162560Z",
          "shell.execute_reply": "2023-12-01T23:07:42.206476Z"
        },
        "trusted": true,
        "colab": {
          "base_uri": "https://localhost:8080/"
        },
        "id": "D-TbRHpCrNvX",
        "outputId": "9a82f2f2-45fe-413a-f9d0-ee6c2a12de74"
      },
      "execution_count": 50,
      "outputs": [
        {
          "output_type": "execute_result",
          "data": {
            "text/plain": [
              "0.82585625"
            ]
          },
          "metadata": {},
          "execution_count": 50
        }
      ]
    },
    {
      "cell_type": "code",
      "source": [
        "from sklearn.metrics import confusion_matrix # import confusion matrix from the sklearn.metrics\n",
        "confusion_matrix(y_test, y_pred_svm)# plot the confusion matrix between our predicted sentiments and the original testing data sentiments"
      ],
      "metadata": {
        "_uuid": "a3222549cc22d2cde3a5a3f566f98f3041a382d9",
        "execution": {
          "iopub.status.busy": "2023-12-01T23:07:42.208371Z",
          "iopub.execute_input": "2023-12-01T23:07:42.208793Z",
          "iopub.status.idle": "2023-12-01T23:07:42.744022Z",
          "shell.execute_reply.started": "2023-12-01T23:07:42.208744Z",
          "shell.execute_reply": "2023-12-01T23:07:42.742901Z"
        },
        "trusted": true,
        "colab": {
          "base_uri": "https://localhost:8080/"
        },
        "id": "u6TNnYKhrNvX",
        "outputId": "572f88a8-ff78-4ad8-e5ea-bbd257fee8a4"
      },
      "execution_count": 51,
      "outputs": [
        {
          "output_type": "execute_result",
          "data": {
            "text/plain": [
              "array([[134058,  26098],\n",
              "       [ 29628, 130216]])"
            ]
          },
          "metadata": {},
          "execution_count": 51
        }
      ]
    },
    {
      "cell_type": "markdown",
      "source": [
        "**Tweet Lengths Before Cleaning:**\n",
        "This histogram displays the distribution of the lengths of tweets before any text cleaning has been applied.\n",
        "The x-axis represents the length of tweets in terms of the number of characters, while the y-axis shows the frequency of tweets with those lengths.\n",
        "This visualization helps to understand the original length variation in the dataset, which can be indicative of the verbosity or conciseness of tweets. <br>\n",
        "\n",
        "**Tweet Lengths After Cleaning:**\n",
        "Similar to the first histogram, this graph shows the distribution of tweet lengths, but after the cleaning process.\n",
        "Cleaning involves lowercasing the text, removing URLs, @mentions, hashtags, and trimming extra spaces.\n",
        "The comparison between pre- and post-cleaning lengths can reveal the extent of noise (like URLs and mentions) present in the original tweets.<br>\n",
        "\n",
        "**Top 20 Most Common Words:**\n",
        "This bar plot visualizes the 20 most frequently occurring words in the cleaned tweets.\n",
        "The y-axis lists the words, while the x-axis shows their frequency of occurrence in the dataset.\n",
        "This graph is crucial for understanding the common vocabulary or themes present in the tweets, which can be particularly useful in sentiment analysis to identify words often associated with positive or negative sentiments.<br>\n"
      ],
      "metadata": {
        "id": "QUMC8e9fspxw"
      }
    },
    {
      "cell_type": "code",
      "source": [
        "import pandas as pd\n",
        "import matplotlib.pyplot as plt\n",
        "import seaborn as sns\n",
        "from collections import Counter\n",
        "import re\n",
        "\n",
        "# Load the dataset\n",
        "tweets_df = pd.read_csv(\"/content/drive/MyDrive/ml decemeber 4th/training.1600000.processed.noemoticon.csv\", encoding='latin-1', header=None) #read csv file without header as dataframe\n",
        "tweets_df.columns = ['sentiment', 'id', 'timestamp', 'query', 'user', 'text']\n",
        "\n",
        "# Drop unnecessary columns\n",
        "tweets_df_cleaned = tweets_df.drop(['id', 'timestamp', 'query', 'user'], axis=1)\n",
        "\n",
        "# Add a column for the length of each tweet\n",
        "tweets_df_cleaned['pre_clean_len'] = tweets_df_cleaned['text'].apply(len)\n",
        "\n",
        "# Function to clean tweet text\n",
        "def clean_tweet(text):\n",
        "    text = text.lower()\n",
        "    text = re.sub(r'http\\S+|www\\S+|https\\S+', '', text, flags=re.MULTILINE)\n",
        "    text = re.sub(r'@\\w+', '', text)\n",
        "    text = re.sub(r'#', '', text)\n",
        "    text = re.sub(r'\\s+', ' ', text).strip()\n",
        "    return text\n",
        "\n",
        "# Clean the tweets\n",
        "tweets_df_cleaned['cleaned_text'] = tweets_df_cleaned['text'].apply(clean_tweet)\n",
        "tweets_df_cleaned['post_clean_len'] = tweets_df_cleaned['cleaned_text'].apply(len)\n",
        "\n",
        "# Plotting tweet length distribution\n",
        "plt.figure(figsize=(12, 6))\n",
        "plt.subplot(1, 2, 1)\n",
        "sns.histplot(tweets_df_cleaned['pre_clean_len'], bins=30, kde=False)\n",
        "plt.title('Tweet Lengths Before Cleaning')\n",
        "plt.xlabel('Length')\n",
        "plt.ylabel('Frequency')\n",
        "\n",
        "plt.subplot(1, 2, 2)\n",
        "sns.histplot(tweets_df_cleaned['post_clean_len'], bins=30, kde=False, color='orange')\n",
        "plt.title('Tweet Lengths After Cleaning')\n",
        "plt.xlabel('Length')\n",
        "plt.ylabel('Frequency')\n",
        "plt.tight_layout()\n",
        "plt.show()\n",
        "\n",
        "# Basic word frequency analysis\n",
        "all_words = ' '.join(tweets_df_cleaned['cleaned_text']).split()\n",
        "word_freq = Counter(all_words).most_common(20)\n",
        "\n",
        "# Visualizing the most common words\n",
        "words, counts = zip(*word_freq)\n",
        "plt.figure(figsize=(10, 6))\n",
        "sns.barplot(x=list(counts), y=list(words))\n",
        "plt.title('Top 20 Most Common Words')\n",
        "plt.xlabel('Frequency')\n",
        "plt.ylabel('Words')\n",
        "plt.show()"
      ],
      "metadata": {
        "_uuid": "0dec928a982861724a2fa497b057953acfae08fb",
        "execution": {
          "iopub.status.busy": "2023-12-01T23:40:40.299887Z",
          "iopub.execute_input": "2023-12-01T23:40:40.300246Z",
          "iopub.status.idle": "2023-12-01T23:41:27.228784Z",
          "shell.execute_reply.started": "2023-12-01T23:40:40.300202Z",
          "shell.execute_reply": "2023-12-01T23:41:27.227792Z"
        },
        "trusted": true,
        "colab": {
          "base_uri": "https://localhost:8080/",
          "height": 1000
        },
        "id": "13JeAah_rNvX",
        "outputId": "47b3c07f-c497-400e-fc3e-4993898202c5"
      },
      "execution_count": 52,
      "outputs": [
        {
          "output_type": "display_data",
          "data": {
            "text/plain": [
              "<Figure size 1200x600 with 2 Axes>"
            ],
            "image/png": "[encoded data removed]"
          },
          "metadata": {}
        },
        {
          "output_type": "display_data",
          "data": {
            "text/plain": [
              "<Figure size 1000x600 with 1 Axes>"
            ],
            "image/png": "[encoded data removed]"
          },
          "metadata": {}
        }
      ]
    }
  ]
}